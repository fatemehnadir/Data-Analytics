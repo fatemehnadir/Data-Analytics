{
 "cells": [
  {
   "cell_type": "markdown",
   "metadata": {},
   "source": [
    "<div style=\"display:block\" direction=rtl align=right><br><br>\n",
    "    <div  style=\"width:100%;margin:100;display:block\"  display=block align=center>\n",
    "        <img width=130 align=right src=\"https://i.ibb.co/yXKQmtZ/logo1.png\" style=\"margin:0;\" />\n",
    "        <img width=170 align=left  src=\"https://i.ibb.co/wLjqFkw/logo2.png\" style=\"margin:0;\" />\n",
    "        <span><br><font size=5>University of Tehran , school of ECE</font></span>\n",
    "        <span><br><font size=3>Data Analytics Course</font></span>\n",
    "        <span><br><font size=3>Fall 2022</font></span>\n",
    "    </div><br><br><br>\n",
    "    <div style=\"display:block\" align=left display=block> \n",
    "        <font size=3>Homework 1</font><br>\n",
    "        <hr />\n",
    "        <font size=3>TA: <a href=\"mailto:mesbahamirhossein@gmail.com\">Amirhossein Mesbah</a><br></font><br>\n",
    "    </div>\n",
    "</div>"
   ]
  },
  {
   "cell_type": "markdown",
   "metadata": {},
   "source": [
    ">⚠ <b>\n",
    "به علت داشتن نام متغیرهای مشابه لطفا برای اجرای هر قسمت از سوال، از ابتدای هر بخش، به انضمام بخش کتابخانه که در زیر آمده است اجرا شود\n",
    "</b>"
   ]
  },
  {
   "cell_type": "markdown",
   "metadata": {},
   "source": [
    "### import libraries"
   ]
  },
  {
   "cell_type": "code",
   "execution_count": 1,
   "metadata": {},
   "outputs": [],
   "source": [
    "import numpy as np\n",
    "import matplotlib.pyplot as plt\n",
    "import pandas as pd\n",
    "import string"
   ]
  },
  {
   "cell_type": "markdown",
   "metadata": {},
   "source": [
    "# Numpy"
   ]
  },
  {
   "cell_type": "markdown",
   "metadata": {},
   "source": [
    "### Question1: mean and std of numbers between 10 and 1000."
   ]
  },
  {
   "cell_type": "code",
   "execution_count": 2,
   "metadata": {},
   "outputs": [
    {
     "name": "stdout",
     "output_type": "stream",
     "text": [
      "Average :  505.0\n",
      "standard deviation :  286.07691273501956\n"
     ]
    }
   ],
   "source": [
    "rv = np.arange(10,1000+1)\n",
    "print(\"Average : \", rv.mean())\n",
    "print(\"standard deviation : \", rv.std())"
   ]
  },
  {
   "cell_type": "markdown",
   "metadata": {},
   "source": [
    "### Question2: nearest point to each random point."
   ]
  },
  {
   "cell_type": "markdown",
   "metadata": {},
   "source": [
    "**Generation**"
   ]
  },
  {
   "cell_type": "code",
   "execution_count": 3,
   "metadata": {},
   "outputs": [
    {
     "data": {
      "text/plain": [
       "(100, 10)"
      ]
     },
     "execution_count": 3,
     "metadata": {},
     "output_type": "execute_result"
    }
   ],
   "source": [
    "points = np.random.uniform(1000, size = (100,10))\n",
    "points.shape"
   ]
  },
  {
   "cell_type": "markdown",
   "metadata": {},
   "source": [
    "**Calculations**"
   ]
  },
  {
   "cell_type": "markdown",
   "metadata": {},
   "source": [
    "A distance matrix is a square matrix that captures the pairwise distances between a set of vectors.\n",
    "<br> in this question when we speak about the distance between vectors, we are referring to their euclidean distance.\n",
    "<br>Mathematically, we can define euclidean distance between two vectors $u , $v :\n",
    "$$ \\left \\| u-v \\right \\| = \\sqrt{\\sum_{k=1}^{d}\\left ( {u_{k}}^{} -v_{k}^{}\\right ) ^{2}} $$\n",
    "where d is the dimensionality (size) of the vectors.\n",
    "\n",
    "<br><br> we need to compute the distances between all points in this question so These distances can be stored in an (n,n) matrix dist.\n",
    "\n",
    "$$ dist_{ij} = \\sqrt{u_i^{2}-2u_iv_j+v_j^{2}}$$\n",
    "\n",
    "where $dist_{ij}$ represents the distance between the ith point and the jth point.\n"
   ]
  },
  {
   "cell_type": "markdown",
   "metadata": {},
   "source": [
    "- `euclidean_distance_matrix`: a numpy array for distance between each point.\n",
    "- `euclidean_distance_index`: a numpy array for index of points which is nearest to this cell point.\n",
    "<br>fill diagonal by inf value because the nearest point is itself and we don't want that."
   ]
  },
  {
   "cell_type": "code",
   "execution_count": 4,
   "metadata": {},
   "outputs": [],
   "source": [
    "x2 = np.sum(points**2, axis=1) \n",
    "xy = np.matmul(points, points.T)\n",
    "y2 = x2.reshape(-1, 1)\n",
    "euclidean_distance_matrix = np.sqrt(np.round(y2 - 2*xy + x2,5))\n",
    "np.fill_diagonal(euclidean_distance_matrix ,float('inf') )\n",
    "euclidean_distance_index = np.argmin(euclidean_distance_matrix, axis=1)"
   ]
  },
  {
   "cell_type": "markdown",
   "metadata": {},
   "source": [
    ">**⚠ WARNING**: \n",
    ">This loop is just for better display, calculations are done without loops\n"
   ]
  },
  {
   "cell_type": "code",
   "execution_count": 5,
   "metadata": {},
   "outputs": [
    {
     "name": "stdout",
     "output_type": "stream",
     "text": [
      "The closest point to 0 point is 56 point.\n",
      "The closest point to 1 point is 58 point.\n",
      "The closest point to 2 point is 67 point.\n",
      "The closest point to 3 point is 28 point.\n",
      "The closest point to 4 point is 78 point.\n",
      "The closest point to 5 point is 9 point.\n",
      "The closest point to 6 point is 41 point.\n",
      "The closest point to 7 point is 57 point.\n",
      "The closest point to 8 point is 62 point.\n",
      "The closest point to 9 point is 91 point.\n",
      "The closest point to 10 point is 90 point.\n",
      "The closest point to 11 point is 81 point.\n",
      "The closest point to 12 point is 70 point.\n",
      "The closest point to 13 point is 65 point.\n",
      "The closest point to 14 point is 47 point.\n",
      "The closest point to 15 point is 26 point.\n",
      "The closest point to 16 point is 81 point.\n",
      "The closest point to 17 point is 45 point.\n",
      "The closest point to 18 point is 33 point.\n",
      "The closest point to 19 point is 44 point.\n",
      "The closest point to 20 point is 46 point.\n",
      "The closest point to 21 point is 47 point.\n",
      "The closest point to 22 point is 10 point.\n",
      "The closest point to 23 point is 94 point.\n",
      "The closest point to 24 point is 87 point.\n",
      "The closest point to 25 point is 48 point.\n",
      "The closest point to 26 point is 15 point.\n",
      "The closest point to 27 point is 48 point.\n",
      "The closest point to 28 point is 3 point.\n",
      "The closest point to 29 point is 59 point.\n",
      "The closest point to 30 point is 64 point.\n",
      "The closest point to 31 point is 66 point.\n",
      "The closest point to 32 point is 12 point.\n",
      "The closest point to 33 point is 18 point.\n",
      "The closest point to 34 point is 79 point.\n",
      "The closest point to 35 point is 71 point.\n",
      "The closest point to 36 point is 65 point.\n",
      "The closest point to 37 point is 89 point.\n",
      "The closest point to 38 point is 1 point.\n",
      "The closest point to 39 point is 75 point.\n",
      "The closest point to 40 point is 60 point.\n",
      "The closest point to 41 point is 6 point.\n",
      "The closest point to 42 point is 86 point.\n",
      "The closest point to 43 point is 33 point.\n",
      "The closest point to 44 point is 1 point.\n",
      "The closest point to 45 point is 94 point.\n",
      "The closest point to 46 point is 68 point.\n",
      "The closest point to 47 point is 4 point.\n",
      "The closest point to 48 point is 27 point.\n",
      "The closest point to 49 point is 50 point.\n",
      "The closest point to 50 point is 92 point.\n",
      "The closest point to 51 point is 64 point.\n",
      "The closest point to 52 point is 87 point.\n",
      "The closest point to 53 point is 56 point.\n",
      "The closest point to 54 point is 61 point.\n",
      "The closest point to 55 point is 6 point.\n",
      "The closest point to 56 point is 53 point.\n",
      "The closest point to 57 point is 78 point.\n",
      "The closest point to 58 point is 1 point.\n",
      "The closest point to 59 point is 29 point.\n",
      "The closest point to 60 point is 40 point.\n",
      "The closest point to 61 point is 82 point.\n",
      "The closest point to 62 point is 45 point.\n",
      "The closest point to 63 point is 53 point.\n",
      "The closest point to 64 point is 66 point.\n",
      "The closest point to 65 point is 36 point.\n",
      "The closest point to 66 point is 31 point.\n",
      "The closest point to 67 point is 2 point.\n",
      "The closest point to 68 point is 46 point.\n",
      "The closest point to 69 point is 72 point.\n",
      "The closest point to 70 point is 12 point.\n",
      "The closest point to 71 point is 90 point.\n",
      "The closest point to 72 point is 78 point.\n",
      "The closest point to 73 point is 12 point.\n",
      "The closest point to 74 point is 55 point.\n",
      "The closest point to 75 point is 47 point.\n",
      "The closest point to 76 point is 27 point.\n",
      "The closest point to 77 point is 64 point.\n",
      "The closest point to 78 point is 4 point.\n",
      "The closest point to 79 point is 34 point.\n",
      "The closest point to 80 point is 71 point.\n",
      "The closest point to 81 point is 11 point.\n",
      "The closest point to 82 point is 61 point.\n",
      "The closest point to 83 point is 37 point.\n",
      "The closest point to 84 point is 47 point.\n",
      "The closest point to 85 point is 25 point.\n",
      "The closest point to 86 point is 42 point.\n",
      "The closest point to 87 point is 38 point.\n",
      "The closest point to 88 point is 32 point.\n",
      "The closest point to 89 point is 37 point.\n",
      "The closest point to 90 point is 71 point.\n",
      "The closest point to 91 point is 9 point.\n",
      "The closest point to 92 point is 50 point.\n",
      "The closest point to 93 point is 6 point.\n",
      "The closest point to 94 point is 23 point.\n",
      "The closest point to 95 point is 0 point.\n",
      "The closest point to 96 point is 41 point.\n",
      "The closest point to 97 point is 44 point.\n",
      "The closest point to 98 point is 83 point.\n",
      "The closest point to 99 point is 87 point.\n"
     ]
    }
   ],
   "source": [
    "for j,i in enumerate(euclidean_distance_index):\n",
    "    print('The closest point to %d point is %d point.'%(j ,i))"
   ]
  },
  {
   "cell_type": "markdown",
   "metadata": {},
   "source": [
    "### Question3: Histogram of distances."
   ]
  },
  {
   "cell_type": "markdown",
   "metadata": {},
   "source": [
    "I use upper triangle of an euclidean distance matrix because show distance just one time."
   ]
  },
  {
   "cell_type": "code",
   "execution_count": 6,
   "metadata": {},
   "outputs": [
    {
     "data": {
      "image/png": "[encoded data removed]",
      "text/plain": [
       "<Figure size 1200x400 with 1 Axes>"
      ]
     },
     "metadata": {},
     "output_type": "display_data"
    }
   ],
   "source": [
    "np.triu(euclidean_distance_matrix)\n",
    "tri_upper_diag = np.triu(euclidean_distance_matrix, k=0)\n",
    "tri_upper_diag[np.tril_indices(tri_upper_diag.shape[0], -1)] = np.nan\n",
    "\n",
    "np.fill_diagonal(tri_upper_diag ,'nan')\n",
    "np.fill_diagonal(euclidean_distance_matrix ,'nan')\n",
    "\n",
    "plt.figure(figsize=(12,4))\n",
    "plt.hist(np.ravel(tri_upper_diag),bins='auto')\n",
    "plt.xlabel('distance')\n",
    "plt.ylabel('number of points')\n",
    "plt.title(\"Histogram chart of distance of points\") \n",
    "plt.show()"
   ]
  },
  {
   "cell_type": "markdown",
   "metadata": {},
   "source": [
    "### Question4:"
   ]
  },
  {
   "cell_type": "markdown",
   "metadata": {},
   "source": [
    "Execute the cell below. By running this cell, a dataset will be loaded from `patents.csv` file. In this notebook, you are asked to analyze this data in several ways. There are three numpy arrays in this dataset:\n",
    "\n",
    "- `patent_number`: a unique identifier for each patetnt\n",
    "- `patent features`: a vector of 16 features describing several properties of each patent\n",
    "- `category`: the category to which a patent belongs\n"
   ]
  },
  {
   "cell_type": "code",
   "execution_count": 7,
   "metadata": {},
   "outputs": [],
   "source": [
    "# folder path\n",
    "df = pd.read_csv('data/patents.csv')\n",
    "\n",
    "patent_number = df['publication_number'].to_numpy()\n",
    "patent_features = df['patent_embedding'].to_numpy()\n",
    "temp = []\n",
    "for i in range(patent_features.size):\n",
    "    s = str(patent_features[i])\n",
    "    s1 = s.replace(r'\\n', '')\n",
    "    temp.append(\n",
    "        np.array(s.split()[1:-1], dtype='float')[:16]\n",
    "    )\n",
    "\n",
    "patent_features = np.stack(temp)\n",
    "patent_category = df['category']"
   ]
  },
  {
   "cell_type": "markdown",
   "metadata": {},
   "source": [
    "> Note: The method mentioned in the previous section for question 2 is used here\n"
   ]
  },
  {
   "cell_type": "markdown",
   "metadata": {},
   "source": [
    "add origin point to patent_features and calculate distance matrix"
   ]
  },
  {
   "cell_type": "code",
   "execution_count": 8,
   "metadata": {},
   "outputs": [],
   "source": [
    "origin = np.zeros((1, patent_features.shape[1]))\n",
    "patent_features = np.concatenate((patent_features, origin), axis=0)"
   ]
  },
  {
   "cell_type": "code",
   "execution_count": 9,
   "metadata": {},
   "outputs": [],
   "source": [
    "x2 = np.sum(patent_features**2, axis=1) \n",
    "xy = np.matmul(patent_features, patent_features.T)\n",
    "y2 = x2.reshape(-1, 1)\n",
    "euclidean_distance_matrix = np.sqrt(np.round(y2 - 2*xy + x2,10))\n",
    "np.fill_diagonal(euclidean_distance_matrix ,float('-inf') )\n",
    "euclidean_distance_index = np.argmax(euclidean_distance_matrix, axis=1)"
   ]
  },
  {
   "cell_type": "markdown",
   "metadata": {},
   "source": [
    "#### Part1: Which patent has the highest norm? (Eucledian distance from origin)"
   ]
  },
  {
   "cell_type": "code",
   "execution_count": 10,
   "metadata": {},
   "outputs": [
    {
     "data": {
      "text/plain": [
       "10839"
      ]
     },
     "execution_count": 10,
     "metadata": {},
     "output_type": "execute_result"
    }
   ],
   "source": [
    "euclidean_distance_index[-1]"
   ]
  },
  {
   "cell_type": "markdown",
   "metadata": {},
   "source": [
    "delete what I add before for cleaning data"
   ]
  },
  {
   "cell_type": "code",
   "execution_count": 11,
   "metadata": {},
   "outputs": [],
   "source": [
    "patent_features = np.delete(patent_features, (-1), axis=0)\n",
    "euclidean_distance_matrix = np.delete(euclidean_distance_matrix, (-1), axis=0)\n",
    "euclidean_distance_matrix = np.delete(euclidean_distance_matrix, (-1), axis=1)"
   ]
  },
  {
   "cell_type": "markdown",
   "metadata": {},
   "source": [
    "#### Part 2: Find the two patents that are the farthest from eachother"
   ]
  },
  {
   "cell_type": "markdown",
   "metadata": {},
   "source": [
    "use euclidean distance matrix which calculated in previous part"
   ]
  },
  {
   "cell_type": "code",
   "execution_count": 12,
   "metadata": {},
   "outputs": [
    {
     "data": {
      "text/plain": [
       "array([1661, 9236])"
      ]
     },
     "execution_count": 12,
     "metadata": {},
     "output_type": "execute_result"
    }
   ],
   "source": [
    "result = np.where(euclidean_distance_matrix == np.amax(euclidean_distance_matrix))\n",
    "result[0]"
   ]
  },
  {
   "cell_type": "markdown",
   "metadata": {},
   "source": [
    "#### Part 3: Write a function that, given a patent number, finds its nearest neighbour."
   ]
  },
  {
   "cell_type": "code",
   "execution_count": 13,
   "metadata": {},
   "outputs": [
    {
     "data": {
      "text/plain": [
       "1026"
      ]
     },
     "execution_count": 13,
     "metadata": {},
     "output_type": "execute_result"
    }
   ],
   "source": [
    "def nearest_neighbor(patent_features,index):\n",
    "    np.fill_diagonal(euclidean_distance_matrix ,float('inf') )\n",
    "    euclidean_distance_index_min = np.argmin(euclidean_distance_matrix, axis=1)\n",
    "    return euclidean_distance_index_min[index]\n",
    "\n",
    "nearest_neighbor(patent_features,3)"
   ]
  },
  {
   "cell_type": "markdown",
   "metadata": {},
   "source": [
    "#### Part 4: How many patents have a nearest neighbour that is in the same category?"
   ]
  },
  {
   "cell_type": "code",
   "execution_count": 14,
   "metadata": {},
   "outputs": [],
   "source": [
    "def myfunc(a, b):\n",
    "    if a == b:\n",
    "        return 1\n",
    "    else:\n",
    "        return 0"
   ]
  },
  {
   "cell_type": "markdown",
   "metadata": {},
   "source": [
    "- `patent_category_2`: a array for showing category of its nearest neighbor."
   ]
  },
  {
   "cell_type": "code",
   "execution_count": 15,
   "metadata": {},
   "outputs": [
    {
     "data": {
      "text/plain": [
       "6500.0"
      ]
     },
     "execution_count": 15,
     "metadata": {},
     "output_type": "execute_result"
    }
   ],
   "source": [
    "np.fill_diagonal(euclidean_distance_matrix ,float('inf') )\n",
    "patent_category_2 = patent_category[np.argmin(euclidean_distance_matrix, axis=1)]\n",
    "vfunc = np.vectorize(myfunc)\n",
    "vfunc(patent_category, patent_category_2).sum()/2"
   ]
  },
  {
   "cell_type": "markdown",
   "metadata": {},
   "source": [
    "#### Part 5: What is the average and std of distances between every pair of patents within a category? Using these calculated quantities, which cluster do you think is more condensed? Which one is more scattered?"
   ]
  },
  {
   "cell_type": "code",
   "execution_count": 16,
   "metadata": {},
   "outputs": [],
   "source": [
    "patent_category = np.array(patent_category)\n",
    "patent_features = np.array(patent_features)"
   ]
  },
  {
   "cell_type": "markdown",
   "metadata": {},
   "source": [
    "Using the numpy split function, the points of each category were placed in a separate list and the distance matrix was calculated for each category as before."
   ]
  },
  {
   "cell_type": "code",
   "execution_count": 17,
   "metadata": {},
   "outputs": [
    {
     "name": "stdout",
     "output_type": "stream",
     "text": [
      "Mean is 0.1311 and Standard deviation is 0.0396 for Category 0 \n",
      "Mean is 0.1024 and Standard deviation is 0.0305 for Category 1 \n",
      "Mean is 0.1411 and Standard deviation is 0.0438 for Category 2 \n",
      "Mean is 0.1389 and Standard deviation is 0.0446 for Category 3 \n",
      "Mean is 0.1362 and Standard deviation is 0.0401 for Category 4 \n",
      "Mean is 0.1347 and Standard deviation is 0.0423 for Category 5 \n",
      "Mean is 0.1040 and Standard deviation is 0.0318 for Category 6 \n",
      "Mean is 0.1306 and Standard deviation is 0.0384 for Category 7 \n"
     ]
    }
   ],
   "source": [
    "arr1inds = patent_category.argsort()\n",
    "sorted_arr1 = patent_category[arr1inds]\n",
    "sorted_arr2 = patent_features[arr1inds]\n",
    "A = np.split(sorted_arr2, np.unique(sorted_arr1, return_index=True)[1][1:])\n",
    "\n",
    "dist = []\n",
    "\n",
    "for i in range(len(A)):\n",
    "    point_cat = np.array(A[i])\n",
    "    x2 = np.sum(point_cat**2, axis=1) \n",
    "    xy = np.matmul(point_cat, point_cat.T)\n",
    "    y2 = x2.reshape(-1, 1)\n",
    "    euclidean_distance_matrix = np.sqrt(np.round(y2 - 2*xy + x2,10))\n",
    "    a = euclidean_distance_matrix.shape[0]\n",
    "    tri_upper_diag = euclidean_distance_matrix[np.triu_indices(a, k=1)]\n",
    "    dist.append(tri_upper_diag)\n",
    "    print('Mean is %.4f and Standard deviation is %.4f for Category %d '%(dist[i].mean(),dist[i].std(),i))"
   ]
  },
  {
   "cell_type": "markdown",
   "metadata": {},
   "source": [
    "#### Conclusion\n",
    "<br>Because we have the distance between the points; so the lower the average caused the higher the density.\n",
    "<br>On the other hand, the standard deviation is also a correct measure to observe the distribution of points in each category.\n",
    "<br>So, the densest category is the one that has the lowest mean and standard deviation.\n",
    "<br>which means category 1 is the densest category and category 2 and 3 the most scattered category."
   ]
  },
  {
   "cell_type": "markdown",
   "metadata": {},
   "source": [
    "# Working with different Data Files"
   ]
  },
  {
   "cell_type": "markdown",
   "metadata": {},
   "source": [
    "## .txt"
   ]
  },
  {
   "cell_type": "markdown",
   "metadata": {},
   "source": [
    "read \"zen_of_python.txt\" file"
   ]
  },
  {
   "cell_type": "code",
   "execution_count": 18,
   "metadata": {},
   "outputs": [],
   "source": [
    "# folder path\n",
    "with open('./data/zen_of_python.txt') as file:\n",
    "    lines = file.readlines()\n",
    "#lines"
   ]
  },
  {
   "cell_type": "markdown",
   "metadata": {},
   "source": [
    "### Part 1: store words in a list"
   ]
  },
  {
   "cell_type": "markdown",
   "metadata": {},
   "source": [
    "- `line`: a list for each line in file\n",
    "- `words`: a list for each word in file\n",
    "- `words_without_rep`: a list for each word in file without repetition"
   ]
  },
  {
   "cell_type": "code",
   "execution_count": 19,
   "metadata": {},
   "outputs": [],
   "source": [
    "words = []\n",
    "\n",
    "# folder path\n",
    "with open('./data/zen_of_python.txt','r') as file:\n",
    "    for line in file:   \n",
    "        for word in line.split():\n",
    "            words.append(word)"
   ]
  },
  {
   "cell_type": "code",
   "execution_count": 20,
   "metadata": {},
   "outputs": [
    {
     "data": {
      "text/plain": [
       "['The',\n",
       " 'Zen',\n",
       " 'of',\n",
       " 'Python,',\n",
       " 'by',\n",
       " 'Tim',\n",
       " 'Peters',\n",
       " 'Beautiful',\n",
       " 'is',\n",
       " 'better',\n",
       " 'than',\n",
       " 'ugly.',\n",
       " 'Explicit',\n",
       " 'implicit.',\n",
       " 'Simple',\n",
       " 'complex.',\n",
       " 'Complex',\n",
       " 'complicated.',\n",
       " 'Flat',\n",
       " 'nested.',\n",
       " 'Sparse',\n",
       " 'dense.',\n",
       " 'Readability',\n",
       " 'counts.',\n",
       " 'Special',\n",
       " 'cases',\n",
       " \"aren't\",\n",
       " 'special',\n",
       " 'enough',\n",
       " 'to',\n",
       " 'break',\n",
       " 'the',\n",
       " 'rules.',\n",
       " 'Although',\n",
       " 'practicality',\n",
       " 'beats',\n",
       " 'purity.',\n",
       " 'Errors',\n",
       " 'should',\n",
       " 'never',\n",
       " 'pass',\n",
       " 'silently.',\n",
       " 'Unless',\n",
       " 'explicitly',\n",
       " 'silenced.',\n",
       " 'In',\n",
       " 'face',\n",
       " 'ambiguity,',\n",
       " 'refuse',\n",
       " 'temptation',\n",
       " 'guess.',\n",
       " 'There',\n",
       " 'be',\n",
       " 'one--',\n",
       " 'and',\n",
       " 'preferably',\n",
       " 'only',\n",
       " 'one',\n",
       " '--obvious',\n",
       " 'way',\n",
       " 'do',\n",
       " 'it.',\n",
       " 'that',\n",
       " 'may',\n",
       " 'not',\n",
       " 'obvious',\n",
       " 'at',\n",
       " 'first',\n",
       " 'unless',\n",
       " \"you're\",\n",
       " 'Dutch.',\n",
       " 'Now',\n",
       " 'never.',\n",
       " 'often',\n",
       " '*right*',\n",
       " 'now.',\n",
       " 'If',\n",
       " 'implementation',\n",
       " 'hard',\n",
       " 'explain,',\n",
       " \"it's\",\n",
       " 'a',\n",
       " 'bad',\n",
       " 'idea.',\n",
       " 'easy',\n",
       " 'it',\n",
       " 'good',\n",
       " 'Namespaces',\n",
       " 'are',\n",
       " 'honking',\n",
       " 'great',\n",
       " 'idea',\n",
       " '--',\n",
       " \"let's\",\n",
       " 'more',\n",
       " 'those!']"
      ]
     },
     "execution_count": 20,
     "metadata": {},
     "output_type": "execute_result"
    }
   ],
   "source": [
    "words_without_rep = list(dict.fromkeys(words))\n",
    "words_without_rep"
   ]
  },
  {
   "cell_type": "markdown",
   "metadata": {},
   "source": [
    "### Part 2: Occurrence of each character"
   ]
  },
  {
   "cell_type": "code",
   "execution_count": 21,
   "metadata": {},
   "outputs": [
    {
     "name": "stdout",
     "output_type": "stream",
     "text": [
      "a 50\n",
      "b 20\n",
      "c 16\n",
      "d 16\n",
      "e 90\n",
      "f 11\n",
      "g 11\n",
      "h 31\n",
      "i 50\n",
      "j 0\n",
      "k 2\n",
      "l 33\n",
      "m 16\n",
      "n 40\n",
      "o 43\n",
      "p 20\n",
      "q 0\n",
      "r 32\n",
      "s 43\n",
      "t 76\n",
      "u 20\n",
      "v 5\n",
      "w 4\n",
      "x 6\n",
      "y 17\n",
      "z 0\n",
      "A 3\n",
      "B 1\n",
      "C 1\n",
      "D 1\n",
      "E 2\n",
      "F 1\n",
      "G 0\n",
      "H 0\n",
      "I 3\n",
      "J 0\n",
      "K 0\n",
      "L 0\n",
      "M 0\n",
      "N 2\n",
      "O 0\n",
      "P 2\n",
      "Q 0\n",
      "R 1\n",
      "S 3\n",
      "T 3\n",
      "U 1\n",
      "V 0\n",
      "W 0\n",
      "X 0\n",
      "Y 0\n",
      "Z 1\n"
     ]
    }
   ],
   "source": [
    "for i in list(string.ascii_lowercase)+list(string.ascii_uppercase):\n",
    "    print(i,sum(pd.Series(words).str.count(i)))"
   ]
  },
  {
   "cell_type": "markdown",
   "metadata": {},
   "source": [
    "### Part 3: Occurrence of each word"
   ]
  },
  {
   "cell_type": "code",
   "execution_count": 22,
   "metadata": {},
   "outputs": [
    {
     "data": {
      "text/plain": [
       "{'The': 1,\n",
       " 'Zen': 1,\n",
       " 'of': 3,\n",
       " 'Python,': 1,\n",
       " 'by': 1,\n",
       " 'Tim': 1,\n",
       " 'Peters': 1,\n",
       " 'Beautiful': 1,\n",
       " 'is': 10,\n",
       " 'better': 8,\n",
       " 'than': 8,\n",
       " 'ugly.': 1,\n",
       " 'Explicit': 1,\n",
       " 'implicit.': 1,\n",
       " 'Simple': 1,\n",
       " 'complex.': 1,\n",
       " 'Complex': 1,\n",
       " 'complicated.': 1,\n",
       " 'Flat': 1,\n",
       " 'nested.': 1,\n",
       " 'Sparse': 1,\n",
       " 'dense.': 1,\n",
       " 'Readability': 1,\n",
       " 'counts.': 1,\n",
       " 'Special': 1,\n",
       " 'cases': 1,\n",
       " \"aren't\": 1,\n",
       " 'special': 1,\n",
       " 'enough': 1,\n",
       " 'to': 5,\n",
       " 'break': 1,\n",
       " 'the': 5,\n",
       " 'rules.': 1,\n",
       " 'Although': 3,\n",
       " 'practicality': 1,\n",
       " 'beats': 1,\n",
       " 'purity.': 1,\n",
       " 'Errors': 1,\n",
       " 'should': 2,\n",
       " 'never': 2,\n",
       " 'pass': 1,\n",
       " 'silently.': 1,\n",
       " 'Unless': 1,\n",
       " 'explicitly': 1,\n",
       " 'silenced.': 1,\n",
       " 'In': 1,\n",
       " 'face': 1,\n",
       " 'ambiguity,': 1,\n",
       " 'refuse': 1,\n",
       " 'temptation': 1,\n",
       " 'guess.': 1,\n",
       " 'There': 1,\n",
       " 'be': 3,\n",
       " 'one--': 1,\n",
       " 'and': 1,\n",
       " 'preferably': 1,\n",
       " 'only': 1,\n",
       " 'one': 2,\n",
       " '--obvious': 1,\n",
       " 'way': 2,\n",
       " 'do': 2,\n",
       " 'it.': 1,\n",
       " 'that': 1,\n",
       " 'may': 2,\n",
       " 'not': 1,\n",
       " 'obvious': 1,\n",
       " 'at': 1,\n",
       " 'first': 1,\n",
       " 'unless': 1,\n",
       " \"you're\": 1,\n",
       " 'Dutch.': 1,\n",
       " 'Now': 1,\n",
       " 'never.': 1,\n",
       " 'often': 1,\n",
       " '*right*': 1,\n",
       " 'now.': 1,\n",
       " 'If': 2,\n",
       " 'implementation': 2,\n",
       " 'hard': 1,\n",
       " 'explain,': 2,\n",
       " \"it's\": 1,\n",
       " 'a': 2,\n",
       " 'bad': 1,\n",
       " 'idea.': 2,\n",
       " 'easy': 1,\n",
       " 'it': 1,\n",
       " 'good': 1,\n",
       " 'Namespaces': 1,\n",
       " 'are': 1,\n",
       " 'honking': 1,\n",
       " 'great': 1,\n",
       " 'idea': 1,\n",
       " '--': 1,\n",
       " \"let's\": 1,\n",
       " 'more': 1,\n",
       " 'those!': 1}"
      ]
     },
     "execution_count": 22,
     "metadata": {},
     "output_type": "execute_result"
    }
   ],
   "source": [
    "numOfrep_word = {i:words.count(i) for i in words}\n",
    "numOfrep_word"
   ]
  },
  {
   "cell_type": "markdown",
   "metadata": {},
   "source": [
    "### Part 4: Define a function for saving stats at the end of `.txt` file"
   ]
  },
  {
   "cell_type": "markdown",
   "metadata": {},
   "source": [
    "- `reportOffile`: name of function that calculate the number of lines, words and characters.\n",
    "- this function get a file name and save that information at the end of the file."
   ]
  },
  {
   "cell_type": "code",
   "execution_count": 23,
   "metadata": {},
   "outputs": [],
   "source": [
    "def reportOffile(filename):\n",
    "    nl = 0 \n",
    "    nw = 0\n",
    "    nc = 0 \n",
    "    with open(filename,'r') as file:\n",
    "        for line in file:\n",
    "            nl+=1\n",
    "            for word in line.split():\n",
    "                nw+=1\n",
    "                nc+=len(word)\n",
    "\n",
    "    file = open(filename, 'a') \n",
    "    file.write('\\n\\nNumber of lines : %d.\\nNumber of words : %d.\\nNumber of characters : %d. '%(nl,nw,nc))\n",
    "    file.close()"
   ]
  },
  {
   "cell_type": "markdown",
   "metadata": {},
   "source": [
    "### Part 5: Apply your defined function on 'zen_of_python.txt`"
   ]
  },
  {
   "cell_type": "code",
   "execution_count": 24,
   "metadata": {},
   "outputs": [],
   "source": [
    "# folder path\n",
    "reportOffile(\"./data/zen_of_python.txt\")"
   ]
  },
  {
   "cell_type": "markdown",
   "metadata": {},
   "source": [
    "## csv"
   ]
  },
  {
   "cell_type": "code",
   "execution_count": 25,
   "metadata": {},
   "outputs": [],
   "source": [
    "# folder path\n",
    "df = pd.read_csv('./data/patents.csv')"
   ]
  },
  {
   "cell_type": "markdown",
   "metadata": {},
   "source": [
    "### Part 1: number of features and data points"
   ]
  },
  {
   "cell_type": "code",
   "execution_count": 26,
   "metadata": {},
   "outputs": [
    {
     "name": "stdout",
     "output_type": "stream",
     "text": [
      "Number of rows : 15689 and Number of columns : 5\n"
     ]
    }
   ],
   "source": [
    "rows = len(df.axes[0])\n",
    "cols = len(df.axes[1])\n",
    "print(\"Number of rows : %d\"%rows, 'and',\n",
    "      \"Number of columns : %d\"%cols)"
   ]
  },
  {
   "cell_type": "markdown",
   "metadata": {},
   "source": [
    "### Part 2: Name of Features"
   ]
  },
  {
   "cell_type": "code",
   "execution_count": 27,
   "metadata": {},
   "outputs": [
    {
     "name": "stdout",
     "output_type": "stream",
     "text": [
      "publication_number\n",
      "title\n",
      "cpc_code\n",
      "patent_embedding\n",
      "category\n"
     ]
    }
   ],
   "source": [
    "for i in df.columns:\n",
    "    print(i)"
   ]
  },
  {
   "cell_type": "markdown",
   "metadata": {},
   "source": [
    "### Part 3: Print Stats of Dataframe"
   ]
  },
  {
   "cell_type": "markdown",
   "metadata": {},
   "source": [
    "- Some statistical features that I calculate with the functions defined in numpy library.\n",
    "- but we have a function that is defined in pandas library and give us some statistical features"
   ]
  },
  {
   "cell_type": "code",
   "execution_count": 28,
   "metadata": {},
   "outputs": [
    {
     "name": "stdout",
     "output_type": "stream",
     "text": [
      "mean :  3.85422907769775\n",
      "median :  4.0\n",
      "25% :  1.0\n",
      "75% :  6.0\n",
      "min :  0\n",
      "max :  7\n"
     ]
    }
   ],
   "source": [
    "cat = df['category'].to_numpy()\n",
    "print('mean : ', np.mean(cat))\n",
    "print('median : ', np.median(cat))\n",
    "print('25% : ', np.quantile(cat,.25))\n",
    "print('75% : ', np.quantile(cat,.75))\n",
    "print('min : ',np.min(cat))\n",
    "print('max : ',np.max(cat))"
   ]
  },
  {
   "cell_type": "code",
   "execution_count": 29,
   "metadata": {},
   "outputs": [
    {
     "data": {
      "text/html": [
       "<div>\n",
       "<style scoped>\n",
       "    .dataframe tbody tr th:only-of-type {\n",
       "        vertical-align: middle;\n",
       "    }\n",
       "\n",
       "    .dataframe tbody tr th {\n",
       "        vertical-align: top;\n",
       "    }\n",
       "\n",
       "    .dataframe thead th {\n",
       "        text-align: right;\n",
       "    }\n",
       "</style>\n",
       "<table border=\"1\" class=\"dataframe\">\n",
       "  <thead>\n",
       "    <tr style=\"text-align: right;\">\n",
       "      <th></th>\n",
       "      <th>category</th>\n",
       "    </tr>\n",
       "  </thead>\n",
       "  <tbody>\n",
       "    <tr>\n",
       "      <th>count</th>\n",
       "      <td>15689.000000</td>\n",
       "    </tr>\n",
       "    <tr>\n",
       "      <th>mean</th>\n",
       "      <td>3.854229</td>\n",
       "    </tr>\n",
       "    <tr>\n",
       "      <th>std</th>\n",
       "      <td>2.499307</td>\n",
       "    </tr>\n",
       "    <tr>\n",
       "      <th>min</th>\n",
       "      <td>0.000000</td>\n",
       "    </tr>\n",
       "    <tr>\n",
       "      <th>25%</th>\n",
       "      <td>1.000000</td>\n",
       "    </tr>\n",
       "    <tr>\n",
       "      <th>50%</th>\n",
       "      <td>4.000000</td>\n",
       "    </tr>\n",
       "    <tr>\n",
       "      <th>75%</th>\n",
       "      <td>6.000000</td>\n",
       "    </tr>\n",
       "    <tr>\n",
       "      <th>max</th>\n",
       "      <td>7.000000</td>\n",
       "    </tr>\n",
       "  </tbody>\n",
       "</table>\n",
       "</div>"
      ],
      "text/plain": [
       "           category\n",
       "count  15689.000000\n",
       "mean       3.854229\n",
       "std        2.499307\n",
       "min        0.000000\n",
       "25%        1.000000\n",
       "50%        4.000000\n",
       "75%        6.000000\n",
       "max        7.000000"
      ]
     },
     "execution_count": 29,
     "metadata": {},
     "output_type": "execute_result"
    }
   ],
   "source": [
    "df.describe()"
   ]
  },
  {
   "cell_type": "markdown",
   "metadata": {},
   "source": [
    "### Part 4: print rows."
   ]
  },
  {
   "cell_type": "code",
   "execution_count": 30,
   "metadata": {},
   "outputs": [
    {
     "data": {
      "text/html": [
       "<div>\n",
       "<style scoped>\n",
       "    .dataframe tbody tr th:only-of-type {\n",
       "        vertical-align: middle;\n",
       "    }\n",
       "\n",
       "    .dataframe tbody tr th {\n",
       "        vertical-align: top;\n",
       "    }\n",
       "\n",
       "    .dataframe thead th {\n",
       "        text-align: right;\n",
       "    }\n",
       "</style>\n",
       "<table border=\"1\" class=\"dataframe\">\n",
       "  <thead>\n",
       "    <tr style=\"text-align: right;\">\n",
       "      <th></th>\n",
       "      <th>publication_number</th>\n",
       "      <th>title</th>\n",
       "      <th>cpc_code</th>\n",
       "      <th>patent_embedding</th>\n",
       "      <th>category</th>\n",
       "    </tr>\n",
       "  </thead>\n",
       "  <tbody>\n",
       "    <tr>\n",
       "      <th>0</th>\n",
       "      <td>US-2019250858-A1</td>\n",
       "      <td>memory controller and operating method thereof</td>\n",
       "      <td>G06F3/061</td>\n",
       "      <td>[ 0.00135472  0.01564001 -0.04858465  0.039866...</td>\n",
       "      <td>1</td>\n",
       "    </tr>\n",
       "    <tr>\n",
       "      <th>1</th>\n",
       "      <td>US-1000462-A</td>\n",
       "      <td>corn planter</td>\n",
       "      <td>A01C9/00</td>\n",
       "      <td>[-4.44490612e-02  2.48770583e-02 -5.62837869e-...</td>\n",
       "      <td>6</td>\n",
       "    </tr>\n",
       "    <tr>\n",
       "      <th>2</th>\n",
       "      <td>KR-200146416-Y1</td>\n",
       "      <td>antitheft vehicle security system</td>\n",
       "      <td>B60R25/209</td>\n",
       "      <td>[-2.53110677e-02 -2.04547048e-02  8.63679312e-...</td>\n",
       "      <td>0</td>\n",
       "    </tr>\n",
       "    <tr>\n",
       "      <th>3</th>\n",
       "      <td>KR-0160422-B1</td>\n",
       "      <td>a door opening and shutting apparatus and meth...</td>\n",
       "      <td>D06F37/42</td>\n",
       "      <td>[ 1.21761542e-02  1.97522007e-02 -6.62921891e-...</td>\n",
       "      <td>1</td>\n",
       "    </tr>\n",
       "    <tr>\n",
       "      <th>4</th>\n",
       "      <td>US-952306-A</td>\n",
       "      <td>spray burner</td>\n",
       "      <td>B05B1/3033</td>\n",
       "      <td>[-0.00214472  0.01606156 -0.09518531  0.060160...</td>\n",
       "      <td>0</td>\n",
       "    </tr>\n",
       "  </tbody>\n",
       "</table>\n",
       "</div>"
      ],
      "text/plain": [
       "  publication_number                                              title  \\\n",
       "0   US-2019250858-A1     memory controller and operating method thereof   \n",
       "1       US-1000462-A                                       corn planter   \n",
       "2    KR-200146416-Y1                  antitheft vehicle security system   \n",
       "3      KR-0160422-B1  a door opening and shutting apparatus and meth...   \n",
       "4        US-952306-A                                       spray burner   \n",
       "\n",
       "     cpc_code                                   patent_embedding  category  \n",
       "0   G06F3/061  [ 0.00135472  0.01564001 -0.04858465  0.039866...         1  \n",
       "1    A01C9/00  [-4.44490612e-02  2.48770583e-02 -5.62837869e-...         6  \n",
       "2  B60R25/209  [-2.53110677e-02 -2.04547048e-02  8.63679312e-...         0  \n",
       "3   D06F37/42  [ 1.21761542e-02  1.97522007e-02 -6.62921891e-...         1  \n",
       "4  B05B1/3033  [-0.00214472  0.01606156 -0.09518531  0.060160...         0  "
      ]
     },
     "execution_count": 30,
     "metadata": {},
     "output_type": "execute_result"
    }
   ],
   "source": [
    "df.head(5)"
   ]
  },
  {
   "cell_type": "code",
   "execution_count": 31,
   "metadata": {},
   "outputs": [
    {
     "data": {
      "text/html": [
       "<div>\n",
       "<style scoped>\n",
       "    .dataframe tbody tr th:only-of-type {\n",
       "        vertical-align: middle;\n",
       "    }\n",
       "\n",
       "    .dataframe tbody tr th {\n",
       "        vertical-align: top;\n",
       "    }\n",
       "\n",
       "    .dataframe thead th {\n",
       "        text-align: right;\n",
       "    }\n",
       "</style>\n",
       "<table border=\"1\" class=\"dataframe\">\n",
       "  <thead>\n",
       "    <tr style=\"text-align: right;\">\n",
       "      <th></th>\n",
       "      <th>publication_number</th>\n",
       "      <th>title</th>\n",
       "      <th>cpc_code</th>\n",
       "      <th>patent_embedding</th>\n",
       "      <th>category</th>\n",
       "    </tr>\n",
       "  </thead>\n",
       "  <tbody>\n",
       "    <tr>\n",
       "      <th>15684</th>\n",
       "      <td>AT-415717-T</td>\n",
       "      <td>method and device for produce a low pressure w...</td>\n",
       "      <td>H01M8/04104</td>\n",
       "      <td>[ 1.77878514e-02  3.53233777e-02 -3.37363742e-...</td>\n",
       "      <td>1</td>\n",
       "    </tr>\n",
       "    <tr>\n",
       "      <th>15685</th>\n",
       "      <td>AT-424202-T</td>\n",
       "      <td>substitute _NUMBER_ thio _NUMBER_ _NUMBER_ dic...</td>\n",
       "      <td>C07D417/12</td>\n",
       "      <td>[-0.03664465 -0.01075565 -0.02483719 -0.033502...</td>\n",
       "      <td>5</td>\n",
       "    </tr>\n",
       "    <tr>\n",
       "      <th>15686</th>\n",
       "      <td>CA-2952951-A1</td>\n",
       "      <td>end tip for a vehicle wiper blade</td>\n",
       "      <td>B60S1/3894</td>\n",
       "      <td>[-4.39246558e-02  2.96350904e-02 -2.31920835e-...</td>\n",
       "      <td>0</td>\n",
       "    </tr>\n",
       "    <tr>\n",
       "      <th>15687</th>\n",
       "      <td>CH-608317-A</td>\n",
       "      <td>process for the compressive shrinkage of a web...</td>\n",
       "      <td>D06C21/00</td>\n",
       "      <td>[-3.34328553e-03  1.02757774e-02 -2.01825500e-...</td>\n",
       "      <td>6</td>\n",
       "    </tr>\n",
       "    <tr>\n",
       "      <th>15688</th>\n",
       "      <td>CN-100513251-C</td>\n",
       "      <td>system and process for open cover vessel hull</td>\n",
       "      <td>B63B71/00</td>\n",
       "      <td>[-1.98921170e-02  3.07969116e-02 -2.46879123e-...</td>\n",
       "      <td>6</td>\n",
       "    </tr>\n",
       "  </tbody>\n",
       "</table>\n",
       "</div>"
      ],
      "text/plain": [
       "      publication_number                                              title  \\\n",
       "15684        AT-415717-T  method and device for produce a low pressure w...   \n",
       "15685        AT-424202-T  substitute _NUMBER_ thio _NUMBER_ _NUMBER_ dic...   \n",
       "15686      CA-2952951-A1                  end tip for a vehicle wiper blade   \n",
       "15687        CH-608317-A  process for the compressive shrinkage of a web...   \n",
       "15688     CN-100513251-C      system and process for open cover vessel hull   \n",
       "\n",
       "          cpc_code                                   patent_embedding  \\\n",
       "15684  H01M8/04104  [ 1.77878514e-02  3.53233777e-02 -3.37363742e-...   \n",
       "15685   C07D417/12  [-0.03664465 -0.01075565 -0.02483719 -0.033502...   \n",
       "15686   B60S1/3894  [-4.39246558e-02  2.96350904e-02 -2.31920835e-...   \n",
       "15687    D06C21/00  [-3.34328553e-03  1.02757774e-02 -2.01825500e-...   \n",
       "15688    B63B71/00  [-1.98921170e-02  3.07969116e-02 -2.46879123e-...   \n",
       "\n",
       "       category  \n",
       "15684         1  \n",
       "15685         5  \n",
       "15686         0  \n",
       "15687         6  \n",
       "15688         6  "
      ]
     },
     "execution_count": 31,
     "metadata": {},
     "output_type": "execute_result"
    }
   ],
   "source": [
    "df.tail(5)"
   ]
  },
  {
   "cell_type": "code",
   "execution_count": 32,
   "metadata": {},
   "outputs": [
    {
     "data": {
      "text/html": [
       "<div>\n",
       "<style scoped>\n",
       "    .dataframe tbody tr th:only-of-type {\n",
       "        vertical-align: middle;\n",
       "    }\n",
       "\n",
       "    .dataframe tbody tr th {\n",
       "        vertical-align: top;\n",
       "    }\n",
       "\n",
       "    .dataframe thead th {\n",
       "        text-align: right;\n",
       "    }\n",
       "</style>\n",
       "<table border=\"1\" class=\"dataframe\">\n",
       "  <thead>\n",
       "    <tr style=\"text-align: right;\">\n",
       "      <th></th>\n",
       "      <th>publication_number</th>\n",
       "      <th>title</th>\n",
       "      <th>cpc_code</th>\n",
       "      <th>patent_embedding</th>\n",
       "      <th>category</th>\n",
       "    </tr>\n",
       "  </thead>\n",
       "  <tbody>\n",
       "    <tr>\n",
       "      <th>2668</th>\n",
       "      <td>AT-507171-T</td>\n",
       "      <td>method for operate a device for feed part and ...</td>\n",
       "      <td>B65G43/08</td>\n",
       "      <td>[-0.01368391  0.04596003 -0.04194861  0.044783...</td>\n",
       "      <td>6</td>\n",
       "    </tr>\n",
       "    <tr>\n",
       "      <th>11778</th>\n",
       "      <td>AT-A515078-A</td>\n",
       "      <td>building construction</td>\n",
       "      <td>E04H1/04</td>\n",
       "      <td>[-0.03565117 -0.0530164   0.0018419   0.081745...</td>\n",
       "      <td>6</td>\n",
       "    </tr>\n",
       "    <tr>\n",
       "      <th>11758</th>\n",
       "      <td>CN-1529833-A</td>\n",
       "      <td>photosensitive color composition colour filter...</td>\n",
       "      <td>G03F7/0007</td>\n",
       "      <td>[-1.75427776e-02  1.84562579e-02 -5.31301610e-...</td>\n",
       "      <td>6</td>\n",
       "    </tr>\n",
       "    <tr>\n",
       "      <th>2230</th>\n",
       "      <td>US-9971067-B2</td>\n",
       "      <td>polarize plate and image display apparatus com...</td>\n",
       "      <td>G02B1/14</td>\n",
       "      <td>[-1.18190758e-02  3.77579518e-02  7.89764244e-...</td>\n",
       "      <td>7</td>\n",
       "    </tr>\n",
       "    <tr>\n",
       "      <th>15508</th>\n",
       "      <td>WO-2007001836-A3</td>\n",
       "      <td>respiratory device measurement system</td>\n",
       "      <td>A61M16/205</td>\n",
       "      <td>[ 0.02322473  0.01386895 -0.03849567  0.063203...</td>\n",
       "      <td>3</td>\n",
       "    </tr>\n",
       "  </tbody>\n",
       "</table>\n",
       "</div>"
      ],
      "text/plain": [
       "      publication_number                                              title  \\\n",
       "2668         AT-507171-T  method for operate a device for feed part and ...   \n",
       "11778       AT-A515078-A                              building construction   \n",
       "11758       CN-1529833-A  photosensitive color composition colour filter...   \n",
       "2230       US-9971067-B2  polarize plate and image display apparatus com...   \n",
       "15508   WO-2007001836-A3              respiratory device measurement system   \n",
       "\n",
       "         cpc_code                                   patent_embedding  category  \n",
       "2668    B65G43/08  [-0.01368391  0.04596003 -0.04194861  0.044783...         6  \n",
       "11778    E04H1/04  [-0.03565117 -0.0530164   0.0018419   0.081745...         6  \n",
       "11758  G03F7/0007  [-1.75427776e-02  1.84562579e-02 -5.31301610e-...         6  \n",
       "2230     G02B1/14  [-1.18190758e-02  3.77579518e-02  7.89764244e-...         7  \n",
       "15508  A61M16/205  [ 0.02322473  0.01386895 -0.03849567  0.063203...         3  "
      ]
     },
     "execution_count": 32,
     "metadata": {},
     "output_type": "execute_result"
    }
   ],
   "source": [
    "df.sample(5)"
   ]
  },
  {
   "cell_type": "code",
   "execution_count": 33,
   "metadata": {},
   "outputs": [
    {
     "data": {
      "text/plain": [
       "publication_number    object\n",
       "title                 object\n",
       "cpc_code              object\n",
       "patent_embedding      object\n",
       "category               int64\n",
       "dtype: object"
      ]
     },
     "execution_count": 33,
     "metadata": {},
     "output_type": "execute_result"
    }
   ],
   "source": [
    "df.dtypes"
   ]
  },
  {
   "cell_type": "markdown",
   "metadata": {},
   "source": [
    "### Part 5: use iloc and loc to select rows"
   ]
  },
  {
   "cell_type": "code",
   "execution_count": 34,
   "metadata": {},
   "outputs": [
    {
     "data": {
      "text/plain": [
       "1024    device for purple coupling of rotatable axle o...\n",
       "1025                                     heat pump system\n",
       "1026    condensation dryer comprise a heat pump and me...\n",
       "1027                     animal _NUMBER_ plead ingredient\n",
       "1028                      electrostatic dust precipitator\n",
       "                              ...                        \n",
       "2044                  crystalline anti htnfalpha antibody\n",
       "2045    method information processing apparatus and co...\n",
       "2046        pork rind bait and method of prepare the same\n",
       "2047    process for the treatment of titanium contain ...\n",
       "2048    air condition system of a motor vehicle and me...\n",
       "Name: title, Length: 1025, dtype: object"
      ]
     },
     "execution_count": 34,
     "metadata": {},
     "output_type": "execute_result"
    }
   ],
   "source": [
    "df['title'].loc[1024:2048]"
   ]
  },
  {
   "cell_type": "code",
   "execution_count": 35,
   "metadata": {},
   "outputs": [
    {
     "data": {
      "text/plain": [
       "1024    device for purple coupling of rotatable axle o...\n",
       "1025                                     heat pump system\n",
       "1026    condensation dryer comprise a heat pump and me...\n",
       "1027                     animal _NUMBER_ plead ingredient\n",
       "1028                      electrostatic dust precipitator\n",
       "                              ...                        \n",
       "2044                  crystalline anti htnfalpha antibody\n",
       "2045    method information processing apparatus and co...\n",
       "2046        pork rind bait and method of prepare the same\n",
       "2047    process for the treatment of titanium contain ...\n",
       "2048    air condition system of a motor vehicle and me...\n",
       "Name: title, Length: 1025, dtype: object"
      ]
     },
     "execution_count": 35,
     "metadata": {},
     "output_type": "execute_result"
    }
   ],
   "source": [
    "df['title'].iloc[1024:2048+1]"
   ]
  },
  {
   "cell_type": "markdown",
   "metadata": {},
   "source": [
    "### loc vs iloc\n",
    "\n",
    "- The loc() function is label based data selecting method which means that we have to pass the name of the row or column which we want to select. \n",
    "This method includes the <b>last element of the range passed in</b> it, unlike iloc(). \n",
    "loc() can accept the boolean data unlike iloc(). \n",
    "\n",
    "\n",
    "- The iloc() function is an indexed-based selecting method which means that we have to pass an integer index in the method to select a specific row/column. \n",
    "This method <b>does not include the last element of the range passed in</b> it unlike loc(). \n",
    "iloc() does not accept the boolean data unlike loc()."
   ]
  },
  {
   "cell_type": "markdown",
   "metadata": {},
   "source": [
    "### Part 5: Check Dataframe for NaN values"
   ]
  },
  {
   "cell_type": "code",
   "execution_count": 36,
   "metadata": {},
   "outputs": [
    {
     "name": "stdout",
     "output_type": "stream",
     "text": [
      "this dataset have not nan values\n"
     ]
    }
   ],
   "source": [
    "if pd.isna(df).any().any() == False:\n",
    "    print(\"this dataset have not nan values\")\n",
    "else:\n",
    "    print(\"this dataset have nan values\")"
   ]
  },
  {
   "cell_type": "markdown",
   "metadata": {},
   "source": [
    "### Part 6: Check Dataframe for duplicates"
   ]
  },
  {
   "cell_type": "code",
   "execution_count": 37,
   "metadata": {},
   "outputs": [
    {
     "name": "stdout",
     "output_type": "stream",
     "text": [
      "this dataset have duplicates values\n"
     ]
    }
   ],
   "source": [
    "if df.duplicated().any() == False:\n",
    "    print(\"this dataset have not duplicates values\")\n",
    "else:\n",
    "    print(\"this dataset have duplicates values\")"
   ]
  },
  {
   "cell_type": "markdown",
   "metadata": {},
   "source": [
    "### Part 7: Use `Lambda` Function for calculating word counts"
   ]
  },
  {
   "cell_type": "markdown",
   "metadata": {},
   "source": [
    "The lambda function counts the number of words that occur in each title."
   ]
  },
  {
   "cell_type": "code",
   "execution_count": 38,
   "metadata": {},
   "outputs": [],
   "source": [
    "df['title_length'] =  df.title.apply(lambda x: len(x.split()))"
   ]
  },
  {
   "cell_type": "markdown",
   "metadata": {},
   "source": [
    "### Part 8: Plot Histogram of Word counts"
   ]
  },
  {
   "cell_type": "code",
   "execution_count": 39,
   "metadata": {},
   "outputs": [
    {
     "data": {
      "image/png": "[encoded data removed]",
      "text/plain": [
       "<Figure size 640x480 with 1 Axes>"
      ]
     },
     "metadata": {},
     "output_type": "display_data"
    }
   ],
   "source": [
    "hist = df['title_length'].hist(bins='auto')\n",
    "plt.ylabel(\"Number of word occurrences\")\n",
    "plt.xlabel(\"Number of words that occur in each title\")\n",
    "plt.title('Histogram of the number of words in each title');"
   ]
  },
  {
   "cell_type": "markdown",
   "metadata": {},
   "source": [
    "## Log"
   ]
  },
  {
   "cell_type": "markdown",
   "metadata": {},
   "source": [
    "### Part 1: Number of Total Commits"
   ]
  },
  {
   "cell_type": "code",
   "execution_count": 40,
   "metadata": {},
   "outputs": [
    {
     "name": "stdout",
     "output_type": "stream",
     "text": [
      "The number of commits in this file is 536\n"
     ]
    }
   ],
   "source": [
    "# folder path\n",
    "infile = r\"./data/git_log.log\"\n",
    "\n",
    "c = 0\n",
    "with open(infile, 'r') as f:\n",
    "    for line in f:\n",
    "        for j, word in enumerate(line.split()):\n",
    "            if word == \"commit\" and j == 0:\n",
    "                c+=1\n",
    "print('The number of commits in this file is %d'%c)"
   ]
  },
  {
   "cell_type": "markdown",
   "metadata": {},
   "source": [
    "### Part 2: Extract Developer name, Email, Commit Count and last commit date and create a Dataframe"
   ]
  },
  {
   "cell_type": "markdown",
   "metadata": {},
   "source": [
    "- `time_func`: creates a datetime object from the given string."
   ]
  },
  {
   "cell_type": "code",
   "execution_count": 41,
   "metadata": {},
   "outputs": [],
   "source": [
    "from datetime import datetime\n",
    "\n",
    "def time_func(str_time):\n",
    "    # default formatting - \"%a %b %d %H:%M:%S %Y\"\n",
    "    datetime_object = datetime.strptime(str_time, \"%a %b %d %H:%M:%S %Y\")\n",
    "    return datetime_object"
   ]
  },
  {
   "cell_type": "markdown",
   "metadata": {},
   "source": [
    "At first, the blocks related to commits, were separated and saved in a list **temp**\n",
    "<br>Finally, by using a **split** function and according to the specific file format, the required information has been saved.\n",
    "\n",
    ">**⚠ WARNING**: \n",
    ">This code just works for this format.\n"
   ]
  },
  {
   "cell_type": "code",
   "execution_count": 42,
   "metadata": {},
   "outputs": [],
   "source": [
    "lines = []\n",
    "with open(infile, 'r') as f:\n",
    "    for line in f:\n",
    "        if \"Author:\" in line:\n",
    "            lines.append(line)\n",
    "        elif \"Date:\" in line:\n",
    "            lines.append(line)\n",
    "            \n",
    "s = pd.Series(lines)\n",
    "s = s.str.split(n=1)\n",
    "\n",
    "temp = []\n",
    "for i in range(len(s)):\n",
    "    temp.append(s[i][1])\n",
    "    \n",
    "s = pd.Series(temp)\n",
    "s = s.str.rsplit(n=1)\n",
    "\n",
    "temp = []\n",
    "for i in range(len(s)):\n",
    "    if i%2==0:\n",
    "        temp.append(s[i][0])\n",
    "        temp.append(s[i][1])\n",
    "    else:\n",
    "        temp.append(s[i][0])"
   ]
  },
  {
   "cell_type": "markdown",
   "metadata": {},
   "source": [
    "- `df`: my dataframe contains the requested information.\n",
    "- `author` who commited.\n",
    "- `email` email's author.\n",
    "- `date` date of commited.\n"
   ]
  },
  {
   "cell_type": "code",
   "execution_count": 43,
   "metadata": {},
   "outputs": [],
   "source": [
    "df = pd.DataFrame()\n",
    "for i in range(0,len(temp),3):\n",
    "    new_row = {'author':temp[i], 'email':temp[i+1][1:-1], 'date':time_func(temp[i+2])}\n",
    "    new_df = pd.DataFrame([new_row])\n",
    "    df = pd.concat([df, new_df], axis=0, ignore_index=True)\n",
    "co = df['author'].value_counts()"
   ]
  },
  {
   "cell_type": "code",
   "execution_count": 44,
   "metadata": {},
   "outputs": [
    {
     "name": "stdout",
     "output_type": "stream",
     "text": [
      "Author :  Ameya Pandilwar \tNumber of commit :  2 \n",
      "Email address :  ameya@pandilwar.com \tLast commit date :   2016-06-19 02:23:53 \n",
      "\n",
      "Author :  AndrejGajdos \tNumber of commit :  1 \n",
      "Email address :  Andrej1 \tLast commit date :   2016-07-28 13:50:07 \n",
      "\n",
      "Author :  Antoine Rey \tNumber of commit :  64 \n",
      "Email address :  antoine.rey@gmail.com \tLast commit date :   2016-08-19 18:54:56 \n",
      "\n",
      "Author :  Attilio \tNumber of commit :  1 \n",
      "Email address :  attilio@attil.io \tLast commit date :   2016-06-15 22:46:47 \n",
      "\n",
      "Author :  Bram Luyten \tNumber of commit :  1 \n",
      "Email address :  bram@mire.be \tLast commit date :   2014-05-11 18:37:42 \n",
      "\n",
      "Author :  Chris Beams \tNumber of commit :  1 \n",
      "Email address :  cbeams@vmware.com \tLast commit date :   2010-09-02 07:51:24 \n",
      "\n",
      "Author :  Colin But \tNumber of commit :  1 \n",
      "Email address :  colinbut@users.noreply.github.com \tLast commit date :   2015-11-20 13:56:44 \n",
      "\n",
      "Author :  Costin Leau \tNumber of commit :  28 \n",
      "Email address :  cleau@vmware.com \tLast commit date :   2010-07-19 14:20:39 \n",
      "\n",
      "Author :  Craig Dennis \tNumber of commit :  1 \n",
      "Email address :  craigsdennis@gmail.com \tLast commit date :   2014-07-07 21:19:40 \n",
      "\n",
      "Author :  Cyrille Le Clerc \tNumber of commit :  5 \n",
      "Email address :  cyrille@cyrilleleclerc.com \tLast commit date :   2013-08-10 19:49:01 \n",
      "\n",
      "Author :  Dapeng \tNumber of commit :  1 \n",
      "Email address :  verydapeng@gmail.com \tLast commit date :   2016-06-27 17:06:47 \n",
      "\n",
      "Author :  Dirk Mahler \tNumber of commit :  59 \n",
      "Email address :  dirk.mahler@buschmais.com \tLast commit date :   2017-10-24 16:48:23 \n",
      "\n",
      "Author :  Faisal Hameed \tNumber of commit :  1 \n",
      "Email address :  faisal.hameed@devfactory.com \tLast commit date :   2016-04-23 23:31:51 \n",
      "\n",
      "Author :  Gordon Dickens \tNumber of commit :  5 \n",
      "Email address :  gordon@gordondickens.com \tLast commit date :   2013-02-19 11:10:37 \n",
      "\n",
      "Author :  IHABRITANE \tNumber of commit :  1 \n",
      "Email address :  faycal.ihabritane@atos.net \tLast commit date :   2016-01-25 17:21:19 \n",
      "\n",
      "Author :  JavaOnAutobahn \tNumber of commit :  5 \n",
      "Email address :  JavaOnAutobahn@users.noreply.github.com \tLast commit date :   2018-02-09 13:58:15 \n",
      "\n",
      "Author :  Joe Freeman \tNumber of commit :  3 \n",
      "Email address :  joe+github@freemansoft.com \tLast commit date :   2015-09-30 21:20:34 \n",
      "\n",
      "Author :  Julien Dubois \tNumber of commit :  2 \n",
      "Email address :  jdubois@ippon.fr \tLast commit date :   2013-02-25 22:40:24 \n",
      "\n",
      "Author :  Keith Donald \tNumber of commit :  35 \n",
      "Email address :  kdonald@vmware.com \tLast commit date :   2010-02-18 22:11:04 \n",
      "\n",
      "Author :  Markus \tNumber of commit :  4 \n",
      "Email address :  feststelltaste@users.noreply.github.com \tLast commit date :   2018-03-05 22:25:12 \n",
      "\n",
      "Author :  Markus Harrer \tNumber of commit :  27 \n",
      "Email address :  feststelltaste@googlemail.com \tLast commit date :   2019-03-05 22:32:20 \n",
      "\n",
      "Author :  Mic \tNumber of commit :  205 \n",
      "Email address :  misvy@vmware.com \tLast commit date :   2014-08-26 10:51:01 \n",
      "\n",
      "Author :  Mike Eltsufin \tNumber of commit :  1 \n",
      "Email address :  meltsufin@google.com \tLast commit date :   2016-07-22 11:31:12 \n",
      "\n",
      "Author :  Oliver B. Fischer \tNumber of commit :  2 \n",
      "Email address :  o.b.fischer@swe-blog.net \tLast commit date :   2016-09-15 23:27:55 \n",
      "\n",
      "Author :  Rossen Stoyanchev \tNumber of commit :  2 \n",
      "Email address :  rstoyanchev@vmware.com \tLast commit date :   2013-02-10 18:16:18 \n",
      "\n",
      "Author :  TejasM \tNumber of commit :  1 \n",
      "Email address :  tejasmehta0@gmail.com \tLast commit date :   2013-05-27 14:28:24 \n",
      "\n",
      "Author :  Thibault Duchateau \tNumber of commit :  5 \n",
      "Email address :  thibault.duchateau@gmail.com \tLast commit date :   2014-06-01 12:50:08 \n",
      "\n",
      "Author :  Thomas Risberg \tNumber of commit :  1 \n",
      "Email address :  trisberg@vmware.com \tLast commit date :   2009-12-14 22:13:04 \n",
      "\n",
      "Author :  Tomas Repel \tNumber of commit :  5 \n",
      "Email address :  trepel@redhat.com \tLast commit date :   2016-04-05 09:01:37 \n",
      "\n",
      "Author :  Vlad Selpukhin \tNumber of commit :  1 \n",
      "Email address :  slp.vld@gmail.com \tLast commit date :   2015-04-23 15:43:48 \n",
      "\n",
      "Author :  XIAO XI LIU \tNumber of commit :  1 \n",
      "Email address :  liuxx@cn.ibm.com \tLast commit date :   2016-04-05 07:04:33 \n",
      "\n",
      "Author :  boly38 \tNumber of commit :  1 \n",
      "Email address :  boly38@gmail.com \tLast commit date :   2013-07-12 10:22:38 \n",
      "\n",
      "Author :  dmahler \tNumber of commit :  2 \n",
      "Email address :  dirk.mahler@globalfoundries.com \tLast commit date :   2017-02-27 17:48:02 \n",
      "\n",
      "Author :  feststelltaste \tNumber of commit :  2 \n",
      "Email address :  feststelltaste@googlemail.com \tLast commit date :   2017-02-22 23:00:42 \n",
      "\n",
      "Author :  kadinyazilimci \tNumber of commit :  1 \n",
      "Email address :  armagan.ersoz@gmail.com \tLast commit date :   2016-02-25 09:36:20 \n",
      "\n",
      "Author :  lukasz-szewc \tNumber of commit :  1 \n",
      "Email address :  lukasz-szewc@users.noreply.github.com \tLast commit date :   2016-03-05 18:50:45 \n",
      "\n",
      "Author :  michaelisvy \tNumber of commit :  53 \n",
      "Email address :  misvy@vmware.com \tLast commit date :   2016-02-06 15:02:14 \n",
      "\n",
      "Author :  mklose \tNumber of commit :  1 \n",
      "Email address :  martin.klose@klosebrothers.de \tLast commit date :   2015-04-01 16:39:51 \n",
      "\n",
      "Author :  patrickcrocker \tNumber of commit :  1 \n",
      "Email address :  patrick.crocker@gmail.com \tLast commit date :   2016-02-19 14:49:30 \n",
      "\n",
      "Author :  srenkens \tNumber of commit :  1 \n",
      "Email address :  srenkens@gmail.com \tLast commit date :   2015-06-05 12:37:46 \n",
      "\n",
      "Author :  thinksh \tNumber of commit :  1 \n",
      "Email address :  thinkshihang@gmail.com \tLast commit date :   2016-02-03 23:19:46 \n",
      "\n"
     ]
    }
   ],
   "source": [
    "df = df.groupby(['author']).max()\n",
    "df['commit_count'] = co\n",
    "df = df.rename(columns={'date': 'last_commit_date'})\n",
    "for i,j in enumerate(df.index):\n",
    "    print('Author : ',j,'\\tNumber of commit : ',df.iloc[i,2],'\\nEmail address : ',df.iloc[i,0],'\\tLast commit date :  ', df.iloc[i,1],'\\n')"
   ]
  },
  {
   "cell_type": "markdown",
   "metadata": {},
   "source": [
    " It was done in the previous part"
   ]
  },
  {
   "cell_type": "markdown",
   "metadata": {},
   "source": [
    "### Part 3: Developers with Maximum and Minimum Commit count"
   ]
  },
  {
   "cell_type": "code",
   "execution_count": 45,
   "metadata": {},
   "outputs": [
    {
     "name": "stdout",
     "output_type": "stream",
     "text": [
      "The most commit happened by :\n",
      "Mic \t\n",
      "-----------------------------\n",
      "The least commit happened by :\n",
      "AndrejGajdos \t\n",
      "Attilio \t\n",
      "Bram Luyten \t\n",
      "Chris Beams \t\n",
      "Colin But \t\n",
      "Craig Dennis \t\n",
      "Dapeng \t\n",
      "Faisal Hameed \t\n",
      "IHABRITANE \t\n",
      "Mike Eltsufin \t\n",
      "TejasM \t\n",
      "Thomas Risberg \t\n",
      "Vlad Selpukhin \t\n",
      "XIAO XI LIU \t\n",
      "boly38 \t\n",
      "kadinyazilimci \t\n",
      "lukasz-szewc \t\n",
      "mklose \t\n",
      "patrickcrocker \t\n",
      "srenkens \t\n",
      "thinksh \t\n"
     ]
    }
   ],
   "source": [
    "maxn = df.query('commit_count == commit_count.max()')\n",
    "minn = df.query('commit_count == commit_count.min()')\n",
    "\n",
    "print('The most commit happened by :')\n",
    "for i in maxn.index : print(i,\"\\t\")\n",
    "print('-----------------------------')\n",
    "print('The least commit happened by :')\n",
    "for i in minn.index : print(i,\"\\t\")"
   ]
  },
  {
   "cell_type": "markdown",
   "metadata": {},
   "source": [
    "## Json"
   ]
  },
  {
   "cell_type": "markdown",
   "metadata": {},
   "source": [
    "### Part 1: Create Dataframe from Json files"
   ]
  },
  {
   "cell_type": "code",
   "execution_count": 46,
   "metadata": {},
   "outputs": [
    {
     "data": {
      "text/html": [
       "<div>\n",
       "<style scoped>\n",
       "    .dataframe tbody tr th:only-of-type {\n",
       "        vertical-align: middle;\n",
       "    }\n",
       "\n",
       "    .dataframe tbody tr th {\n",
       "        vertical-align: top;\n",
       "    }\n",
       "\n",
       "    .dataframe thead th {\n",
       "        text-align: right;\n",
       "    }\n",
       "</style>\n",
       "<table border=\"1\" class=\"dataframe\">\n",
       "  <thead>\n",
       "    <tr style=\"text-align: right;\">\n",
       "      <th></th>\n",
       "      <th>Title</th>\n",
       "      <th>Lang</th>\n",
       "      <th>Record_date</th>\n",
       "      <th>url</th>\n",
       "      <th>Description</th>\n",
       "      <th>Speakers</th>\n",
       "      <th>Duration</th>\n",
       "      <th>Category</th>\n",
       "      <th>Tags</th>\n",
       "    </tr>\n",
       "  </thead>\n",
       "  <tbody>\n",
       "    <tr>\n",
       "      <th>0</th>\n",
       "      <td>Load Testing a Django Application using LocustIO</td>\n",
       "      <td>eng</td>\n",
       "      <td>2021-06-04</td>\n",
       "      <td>https://www.youtube.com/watch?v=2rvsOQrbLuc</td>\n",
       "      <td>Fed up of using existing tools for determining...</td>\n",
       "      <td>Pranjal Jain</td>\n",
       "      <td>1993</td>\n",
       "      <td>NaN</td>\n",
       "      <td>Django DjangoConEU djangoconeu2021</td>\n",
       "    </tr>\n",
       "    <tr>\n",
       "      <th>1</th>\n",
       "      <td>Load Testing a Django Application using LocustIO</td>\n",
       "      <td>eng</td>\n",
       "      <td>2021-06-04</td>\n",
       "      <td>https://www.youtube.com/watch?v=2rvsOQrbLuc</td>\n",
       "      <td>Fed up of using existing tools for determining...</td>\n",
       "      <td>Vibhash Chandra</td>\n",
       "      <td>1993</td>\n",
       "      <td>NaN</td>\n",
       "      <td>Django DjangoConEU djangoconeu2021</td>\n",
       "    </tr>\n",
       "    <tr>\n",
       "      <th>2</th>\n",
       "      <td>Python-based data science to understand knowle...</td>\n",
       "      <td>eng</td>\n",
       "      <td>2016-03-10</td>\n",
       "      <td>http://youtu.be/pVd2v7fgxwU</td>\n",
       "      <td>All kinds of businesses are using data science...</td>\n",
       "      <td>Daniel E. Acuna</td>\n",
       "      <td>2700</td>\n",
       "      <td>NaN</td>\n",
       "      <td>NaN</td>\n",
       "    </tr>\n",
       "    <tr>\n",
       "      <th>3</th>\n",
       "      <td>Reverse-engineering Ian Bicking's brain: insid...</td>\n",
       "      <td>eng</td>\n",
       "      <td>2011-02-10</td>\n",
       "      <td>https://archive.org/details/pyvideo_568___reve...</td>\n",
       "      <td>-  1 http://us.pycon.org/2011/schedule/session...</td>\n",
       "      <td>Carl Meyer</td>\n",
       "      <td>None</td>\n",
       "      <td>ChiPy</td>\n",
       "      <td>chipy ianbicking pip virtualenv</td>\n",
       "    </tr>\n",
       "    <tr>\n",
       "      <th>4</th>\n",
       "      <td>Build, deploy and scale Django, GraphQL and SPA</td>\n",
       "      <td>eng</td>\n",
       "      <td>2021-06-04</td>\n",
       "      <td>https://www.youtube.com/watch?v=x9I6WaaLC3U</td>\n",
       "      <td>After building, deploying and scaling a dozen ...</td>\n",
       "      <td>dhilipsiva</td>\n",
       "      <td>1837</td>\n",
       "      <td>NaN</td>\n",
       "      <td>Django DjangoConEU djangoconeu2021</td>\n",
       "    </tr>\n",
       "  </tbody>\n",
       "</table>\n",
       "</div>"
      ],
      "text/plain": [
       "                                               Title Lang Record_date  \\\n",
       "0   Load Testing a Django Application using LocustIO  eng  2021-06-04   \n",
       "1   Load Testing a Django Application using LocustIO  eng  2021-06-04   \n",
       "2  Python-based data science to understand knowle...  eng  2016-03-10   \n",
       "3  Reverse-engineering Ian Bicking's brain: insid...  eng  2011-02-10   \n",
       "4    Build, deploy and scale Django, GraphQL and SPA  eng  2021-06-04   \n",
       "\n",
       "                                                 url  \\\n",
       "0        https://www.youtube.com/watch?v=2rvsOQrbLuc   \n",
       "1        https://www.youtube.com/watch?v=2rvsOQrbLuc   \n",
       "2                        http://youtu.be/pVd2v7fgxwU   \n",
       "3  https://archive.org/details/pyvideo_568___reve...   \n",
       "4        https://www.youtube.com/watch?v=x9I6WaaLC3U   \n",
       "\n",
       "                                         Description         Speakers  \\\n",
       "0  Fed up of using existing tools for determining...     Pranjal Jain   \n",
       "1  Fed up of using existing tools for determining...  Vibhash Chandra   \n",
       "2  All kinds of businesses are using data science...  Daniel E. Acuna   \n",
       "3  -  1 http://us.pycon.org/2011/schedule/session...       Carl Meyer   \n",
       "4  After building, deploying and scaling a dozen ...       dhilipsiva   \n",
       "\n",
       "  Duration Category                                Tags  \n",
       "0     1993      NaN  Django DjangoConEU djangoconeu2021  \n",
       "1     1993      NaN  Django DjangoConEU djangoconeu2021  \n",
       "2     2700      NaN                                 NaN  \n",
       "3     None    ChiPy     chipy ianbicking pip virtualenv  \n",
       "4     1837      NaN  Django DjangoConEU djangoconeu2021  "
      ]
     },
     "execution_count": 46,
     "metadata": {},
     "output_type": "execute_result"
    }
   ],
   "source": [
    "import json\n",
    "from os import walk\n",
    "\n",
    "# folder path\n",
    "dir_path = r'./data/Videos/'\n",
    "\n",
    "df = pd.DataFrame()\n",
    "\n",
    "# list to store files name\n",
    "res = []\n",
    "for (dir_path, dir_names, file_names) in walk(dir_path):\n",
    "    for i in file_names:\n",
    "        f = open(dir_path+i)\n",
    "        data = json.load(f)\n",
    "        new_row = {'Title':data['title'], 'Lang':data['language'], \n",
    "                   'Record_date':data['recorded'], 'url': data['videos'][0]['url'],\n",
    "                   'Description':data['description'], \n",
    "                   'Speakers':data['speakers'],'Duration':data['duration'],\n",
    "                   'Category': np.nan,'Tags': np.nan,\n",
    "                  }\n",
    "        if 'category' in data.keys():\n",
    "            new_row.update(Category = data['category'])\n",
    "        if 'tags' in data.keys():\n",
    "            if len(data['tags'])>0:\n",
    "                new_row.update(Tags= ' '.join(data['tags']))\n",
    "                \n",
    "        row = pd.DataFrame.from_dict(new_row)\n",
    "        df = pd.concat([df, row], axis=0, ignore_index=True)\n",
    "        f.close()\n",
    "df.head(5)"
   ]
  },
  {
   "cell_type": "markdown",
   "metadata": {},
   "source": [
    "### Part 2: Handle Missing Values"
   ]
  },
  {
   "cell_type": "code",
   "execution_count": 47,
   "metadata": {},
   "outputs": [
    {
     "name": "stdout",
     "output_type": "stream",
     "text": [
      "Title 0\n",
      "Lang 0\n",
      "Record_date 0\n",
      "url 0\n",
      "Description 0\n",
      "Speakers 0\n",
      "Duration 184\n",
      "Category 38\n",
      "Tags 188\n"
     ]
    }
   ],
   "source": [
    "for i in df.columns:\n",
    "    print(i,df[i].isna().sum())"
   ]
  },
  {
   "cell_type": "markdown",
   "metadata": {},
   "source": [
    "Fill NA/NaN values with some methods that use for filling holes in reindexed Series.\n",
    "<br>**ffill**: propagate last valid observation forward to next valid backfill.\n",
    "<br>**bfill**: use next valid observation to fill gap."
   ]
  },
  {
   "cell_type": "code",
   "execution_count": 48,
   "metadata": {},
   "outputs": [
    {
     "name": "stdout",
     "output_type": "stream",
     "text": [
      "Title 0\n",
      "Lang 0\n",
      "Record_date 0\n",
      "url 0\n",
      "Description 0\n",
      "Speakers 0\n",
      "Duration 0\n",
      "Category 0\n",
      "Tags 0\n"
     ]
    }
   ],
   "source": [
    "df = df.fillna(method='backfill')\n",
    "df = df.fillna(method='ffill')\n",
    "for i in df.columns:\n",
    "    print(i,df[i].isna().sum())"
   ]
  },
  {
   "cell_type": "markdown",
   "metadata": {},
   "source": [
    "### Part 3: Title of videos published in 2016"
   ]
  },
  {
   "cell_type": "code",
   "execution_count": 49,
   "metadata": {},
   "outputs": [
    {
     "name": "stdout",
     "output_type": "stream",
     "text": [
      "The title of the videos released in 2016:\n",
      "1 - Python-based data science to understand knowledge discovery and expertise: A science perspective .\n",
      "2 - ChiPy Python Mentorship .\n",
      "3 - The wonder and the horror of the mock module .\n"
     ]
    }
   ],
   "source": [
    "df['Record_date'] = pd.to_datetime(df['Record_date'])\n",
    "print('The title of the videos released in 2016:')\n",
    "for j , i in enumerate(df[(df['Record_date'] >= '2016-01-01') & (df['Record_date'] < '2017-01-01')].Title):\n",
    "    print(j+1,'-' , i,'.')"
   ]
  },
  {
   "cell_type": "markdown",
   "metadata": {},
   "source": [
    "### Part 4: Mean, Min, Max, Median of Duration for each Category"
   ]
  },
  {
   "cell_type": "code",
   "execution_count": 50,
   "metadata": {},
   "outputs": [
    {
     "name": "stdout",
     "output_type": "stream",
     "text": [
      "Mean\n",
      "Category\n",
      "ChiPy            1285.729412\n",
      "PyCon US 2015    1436.450292\n",
      "Name: Duration, dtype: float64 \n",
      "\n",
      "Min\n",
      "Category\n",
      "ChiPy            4.0\n",
      "PyCon US 2015    5.0\n",
      "Name: Duration, dtype: float64 \n",
      "\n",
      "Max\n",
      "Category\n",
      "ChiPy            4328.0\n",
      "PyCon US 2015    3650.0\n",
      "Name: Duration, dtype: float64 \n",
      "\n",
      "Median\n",
      "Category\n",
      "ChiPy             900.0\n",
      "PyCon US 2015    1500.0\n",
      "Name: Duration, dtype: float64 \n",
      "\n"
     ]
    }
   ],
   "source": [
    "x = df.groupby('Category')\n",
    "print('Mean')\n",
    "print(x['Duration'].mean(),\"\\n\")\n",
    "print('Min')\n",
    "print(x['Duration'].min(),\"\\n\")\n",
    "print('Max')\n",
    "print(x['Duration'].max(),\"\\n\")\n",
    "print('Median')\n",
    "print(x['Duration'].median(),\"\\n\")"
   ]
  },
  {
   "cell_type": "markdown",
   "metadata": {},
   "source": [
    "### Part 5: Create `label` Column"
   ]
  },
  {
   "cell_type": "code",
   "execution_count": 51,
   "metadata": {},
   "outputs": [
    {
     "data": {
      "text/html": [
       "<div>\n",
       "<style scoped>\n",
       "    .dataframe tbody tr th:only-of-type {\n",
       "        vertical-align: middle;\n",
       "    }\n",
       "\n",
       "    .dataframe tbody tr th {\n",
       "        vertical-align: top;\n",
       "    }\n",
       "\n",
       "    .dataframe thead th {\n",
       "        text-align: right;\n",
       "    }\n",
       "</style>\n",
       "<table border=\"1\" class=\"dataframe\">\n",
       "  <thead>\n",
       "    <tr style=\"text-align: right;\">\n",
       "      <th></th>\n",
       "      <th>Title</th>\n",
       "      <th>Lang</th>\n",
       "      <th>Record_date</th>\n",
       "      <th>url</th>\n",
       "      <th>Description</th>\n",
       "      <th>Speakers</th>\n",
       "      <th>Duration</th>\n",
       "      <th>Category</th>\n",
       "      <th>Tags</th>\n",
       "      <th>label</th>\n",
       "    </tr>\n",
       "  </thead>\n",
       "  <tbody>\n",
       "    <tr>\n",
       "      <th>28</th>\n",
       "      <td>Machine Learning 101</td>\n",
       "      <td>eng</td>\n",
       "      <td>2015-04-11</td>\n",
       "      <td>https://www.youtube.com/watch?v=r-1XJBHot58</td>\n",
       "      <td>Machine learning is a crucial part of modern s...</td>\n",
       "      <td>Kyle Kastner</td>\n",
       "      <td>3600.0</td>\n",
       "      <td>PyCon US 2015</td>\n",
       "      <td>lightning talks</td>\n",
       "      <td>3.0</td>\n",
       "    </tr>\n",
       "    <tr>\n",
       "      <th>10</th>\n",
       "      <td>Getting to Jython 2.7 and beyond</td>\n",
       "      <td>eng</td>\n",
       "      <td>2015-04-12</td>\n",
       "      <td>https://www.youtube.com/watch?v=hLm3garVQFo</td>\n",
       "      <td>So how did we get to Jython 2.7 anyway? And wh...</td>\n",
       "      <td>Jim Baker</td>\n",
       "      <td>10.0</td>\n",
       "      <td>PyCon US 2015</td>\n",
       "      <td>billmania camera chipy image opencv robot ros</td>\n",
       "      <td>1.0</td>\n",
       "    </tr>\n",
       "    <tr>\n",
       "      <th>229</th>\n",
       "      <td>Ultimate Language Shootout IV: QUASI</td>\n",
       "      <td>eng</td>\n",
       "      <td>2013-06-13</td>\n",
       "      <td>http://s3.us.archive.org/ndvchipy/Ultimate_Lan...</td>\n",
       "      <td></td>\n",
       "      <td>Randy Baxley</td>\n",
       "      <td>7.0</td>\n",
       "      <td>ChiPy</td>\n",
       "      <td>blender chipy chriswebber python3</td>\n",
       "      <td>1.0</td>\n",
       "    </tr>\n",
       "    <tr>\n",
       "      <th>64</th>\n",
       "      <td>Genie</td>\n",
       "      <td>eng</td>\n",
       "      <td>2013-01-10</td>\n",
       "      <td>http://s3.us.archive.org/nextdayvideo/chipy/ch...</td>\n",
       "      <td></td>\n",
       "      <td>Tal Liron</td>\n",
       "      <td>2441.0</td>\n",
       "      <td>ChiPy</td>\n",
       "      <td>Genie vala</td>\n",
       "      <td>3.0</td>\n",
       "    </tr>\n",
       "    <tr>\n",
       "      <th>135</th>\n",
       "      <td>The (Slightly) Less Sorry State of SSL</td>\n",
       "      <td>eng</td>\n",
       "      <td>2015-04-11</td>\n",
       "      <td>https://www.youtube.com/watch?v=4o-xqqidvKA</td>\n",
       "      <td></td>\n",
       "      <td>Benjamin Peterson</td>\n",
       "      <td>26.0</td>\n",
       "      <td>PyCon US 2015</td>\n",
       "      <td>scraping</td>\n",
       "      <td>1.0</td>\n",
       "    </tr>\n",
       "    <tr>\n",
       "      <th>69</th>\n",
       "      <td>Where in your RAM is \"python san_diego.py\"?</td>\n",
       "      <td>eng</td>\n",
       "      <td>2015-04-12</td>\n",
       "      <td>https://www.youtube.com/watch?v=tMKXcc2-xO8</td>\n",
       "      <td>Gumshoes, the rogue program ``san_diego.py`` i...</td>\n",
       "      <td>Ying Li</td>\n",
       "      <td>420.0</td>\n",
       "      <td>PyCon US 2015</td>\n",
       "      <td>Django DjangoConEU djangoconeu2021</td>\n",
       "      <td>1.0</td>\n",
       "    </tr>\n",
       "    <tr>\n",
       "      <th>174</th>\n",
       "      <td>A Winning Strategy with The Weakest Link: how ...</td>\n",
       "      <td>eng</td>\n",
       "      <td>2015-04-12</td>\n",
       "      <td>https://www.youtube.com/watch?v=NknSssmLk4w</td>\n",
       "      <td>Working with weak references should not just b...</td>\n",
       "      <td>Jim Baker</td>\n",
       "      <td>80.0</td>\n",
       "      <td>PyCon US 2015</td>\n",
       "      <td>chipy gil python3</td>\n",
       "      <td>1.0</td>\n",
       "    </tr>\n",
       "    <tr>\n",
       "      <th>50</th>\n",
       "      <td>Keynote - Van Lindberg - Pycon 2015</td>\n",
       "      <td>eng</td>\n",
       "      <td>2015-04-12</td>\n",
       "      <td>https://www.youtube.com/watch?v=lvlfTZzJ2_Q</td>\n",
       "      <td></td>\n",
       "      <td>Van Lindberg</td>\n",
       "      <td>3040.0</td>\n",
       "      <td>PyCon US 2015</td>\n",
       "      <td>Django DjangoConEU djangoconeu2021</td>\n",
       "      <td>3.0</td>\n",
       "    </tr>\n",
       "    <tr>\n",
       "      <th>20</th>\n",
       "      <td>The request response cycle a Djangonautic journey</td>\n",
       "      <td>eng</td>\n",
       "      <td>2021-06-04</td>\n",
       "      <td>https://www.youtube.com/watch?v=P5gQmlrwLjc</td>\n",
       "      <td>How exactly do web-servers communicate with Dj...</td>\n",
       "      <td>Timothy McCurrach</td>\n",
       "      <td>2354.0</td>\n",
       "      <td>PyCon US 2015</td>\n",
       "      <td>Django DjangoConEU djangoconeu2021</td>\n",
       "      <td>3.0</td>\n",
       "    </tr>\n",
       "    <tr>\n",
       "      <th>207</th>\n",
       "      <td>Writing Safe Database Migrations</td>\n",
       "      <td>eng</td>\n",
       "      <td>2021-06-02</td>\n",
       "      <td>https://www.youtube.com/watch?v=q1BlFKXy-BU</td>\n",
       "      <td>Django’s built-in migration framework is great...</td>\n",
       "      <td>Markus Holtermann</td>\n",
       "      <td>1917.0</td>\n",
       "      <td>ChiPy</td>\n",
       "      <td>Django DjangoConEU djangoconeu2021</td>\n",
       "      <td>2.0</td>\n",
       "    </tr>\n",
       "  </tbody>\n",
       "</table>\n",
       "</div>"
      ],
      "text/plain": [
       "                                                 Title Lang Record_date  \\\n",
       "28                                Machine Learning 101  eng  2015-04-11   \n",
       "10                    Getting to Jython 2.7 and beyond  eng  2015-04-12   \n",
       "229               Ultimate Language Shootout IV: QUASI  eng  2013-06-13   \n",
       "64                                               Genie  eng  2013-01-10   \n",
       "135             The (Slightly) Less Sorry State of SSL  eng  2015-04-11   \n",
       "69         Where in your RAM is \"python san_diego.py\"?  eng  2015-04-12   \n",
       "174  A Winning Strategy with The Weakest Link: how ...  eng  2015-04-12   \n",
       "50                 Keynote - Van Lindberg - Pycon 2015  eng  2015-04-12   \n",
       "20   The request response cycle a Djangonautic journey  eng  2021-06-04   \n",
       "207                   Writing Safe Database Migrations  eng  2021-06-02   \n",
       "\n",
       "                                                   url  \\\n",
       "28         https://www.youtube.com/watch?v=r-1XJBHot58   \n",
       "10         https://www.youtube.com/watch?v=hLm3garVQFo   \n",
       "229  http://s3.us.archive.org/ndvchipy/Ultimate_Lan...   \n",
       "64   http://s3.us.archive.org/nextdayvideo/chipy/ch...   \n",
       "135        https://www.youtube.com/watch?v=4o-xqqidvKA   \n",
       "69         https://www.youtube.com/watch?v=tMKXcc2-xO8   \n",
       "174        https://www.youtube.com/watch?v=NknSssmLk4w   \n",
       "50         https://www.youtube.com/watch?v=lvlfTZzJ2_Q   \n",
       "20         https://www.youtube.com/watch?v=P5gQmlrwLjc   \n",
       "207        https://www.youtube.com/watch?v=q1BlFKXy-BU   \n",
       "\n",
       "                                           Description           Speakers  \\\n",
       "28   Machine learning is a crucial part of modern s...       Kyle Kastner   \n",
       "10   So how did we get to Jython 2.7 anyway? And wh...          Jim Baker   \n",
       "229                                                          Randy Baxley   \n",
       "64                                                              Tal Liron   \n",
       "135                                                     Benjamin Peterson   \n",
       "69   Gumshoes, the rogue program ``san_diego.py`` i...            Ying Li   \n",
       "174  Working with weak references should not just b...          Jim Baker   \n",
       "50                                                           Van Lindberg   \n",
       "20   How exactly do web-servers communicate with Dj...  Timothy McCurrach   \n",
       "207  Django’s built-in migration framework is great...  Markus Holtermann   \n",
       "\n",
       "     Duration       Category                                           Tags  \\\n",
       "28     3600.0  PyCon US 2015                                lightning talks   \n",
       "10       10.0  PyCon US 2015  billmania camera chipy image opencv robot ros   \n",
       "229       7.0          ChiPy              blender chipy chriswebber python3   \n",
       "64     2441.0          ChiPy                                     Genie vala   \n",
       "135      26.0  PyCon US 2015                                       scraping   \n",
       "69      420.0  PyCon US 2015             Django DjangoConEU djangoconeu2021   \n",
       "174      80.0  PyCon US 2015                              chipy gil python3   \n",
       "50     3040.0  PyCon US 2015             Django DjangoConEU djangoconeu2021   \n",
       "20     2354.0  PyCon US 2015             Django DjangoConEU djangoconeu2021   \n",
       "207    1917.0          ChiPy             Django DjangoConEU djangoconeu2021   \n",
       "\n",
       "     label  \n",
       "28     3.0  \n",
       "10     1.0  \n",
       "229    1.0  \n",
       "64     3.0  \n",
       "135    1.0  \n",
       "69     1.0  \n",
       "174    1.0  \n",
       "50     3.0  \n",
       "20     3.0  \n",
       "207    2.0  "
      ]
     },
     "execution_count": 51,
     "metadata": {},
     "output_type": "execute_result"
    }
   ],
   "source": [
    "df.loc[df.Duration<1000,'label']=1\n",
    "df.loc[df.Duration.between(1000, 2000),'label']=2\n",
    "df.loc[df.Duration>=2000,'label']=3\n",
    "df.sample(10)"
   ]
  },
  {
   "cell_type": "markdown",
   "metadata": {},
   "source": [
    "### Part 6: First and Last video of each label"
   ]
  },
  {
   "cell_type": "code",
   "execution_count": 52,
   "metadata": {},
   "outputs": [
    {
     "name": "stdout",
     "output_type": "stream",
     "text": [
      "Label 1\n",
      "First video :  Blender 2.5 loves Python 3\n",
      "Last video :  What happened at #aaronswhack?\n"
     ]
    }
   ],
   "source": [
    "print('Label 1')\n",
    "print('First video : ',df.loc[df['label'] == 1].sort_values(by=['Record_date'])\\\n",
    "                .nlargest(1, 'Duration').Title.to_string(index=False))\n",
    "print('Last video : ',df.loc[df['label'] == 1].sort_values(by=['Record_date'])\\\n",
    "                .nsmallest(1, 'Duration').Title.to_string(index=False))"
   ]
  },
  {
   "cell_type": "code",
   "execution_count": 53,
   "metadata": {},
   "outputs": [
    {
     "name": "stdout",
     "output_type": "stream",
     "text": [
      "Label 2\n",
      "First video :  Load Testing a Django Application using LocustIO\n",
      "Last video :  REST on Django\n"
     ]
    }
   ],
   "source": [
    "print('Label 2')\n",
    "print('First video : ',df.loc[df['label'] == 2].sort_values(by=['Record_date'])\\\n",
    "                .nlargest(1, 'Duration').Title.to_string(index=False))\n",
    "print('Last video : ',df.loc[df['label'] == 2].sort_values(by=['Record_date'])\\\n",
    "                .nsmallest(1, 'Duration').Title.to_string(index=False))"
   ]
  },
  {
   "cell_type": "code",
   "execution_count": 54,
   "metadata": {},
   "outputs": [
    {
     "name": "stdout",
     "output_type": "stream",
     "text": [
      "Label 3\n",
      "First video :  KEYNOTE How to be a djangonaut in a climate eme...\n",
      "Last video :  Good Test, Bad Test\n"
     ]
    }
   ],
   "source": [
    "print('Label 3')\n",
    "print('First video : ',df.loc[df['label'] == 3].sort_values(by=['Record_date'])\\\n",
    "                .nlargest(1, 'Duration').Title.to_string(index=False))\n",
    "print('Last video : ',df.loc[df['label'] == 3].sort_values(by=['Record_date'])\\\n",
    "                .nsmallest(1, 'Duration').Title.to_string(index=False))"
   ]
  },
  {
   "cell_type": "markdown",
   "metadata": {},
   "source": [
    "### (Bonus) part 7: WordCloud of Discription"
   ]
  },
  {
   "cell_type": "markdown",
   "metadata": {},
   "source": [
    "I use **wordcloud** library for calculating this question.\n",
    "<br>In the question, it was not mentioned that we cannot use this library :)"
   ]
  },
  {
   "cell_type": "code",
   "execution_count": 55,
   "metadata": {},
   "outputs": [],
   "source": [
    "from wordcloud import WordCloud,STOPWORDS\n",
    "import matplotlib.pyplot as plt"
   ]
  },
  {
   "cell_type": "code",
   "execution_count": 56,
   "metadata": {
    "scrolled": true
   },
   "outputs": [
    {
     "data": {
      "text/plain": [
       "<matplotlib.image.AxesImage at 0x159018040>"
      ]
     },
     "execution_count": 56,
     "metadata": {},
     "output_type": "execute_result"
    },
    {
     "data": {
      "image/png": "[encoded data removed]",
      "text/plain": [
       "<Figure size 640x480 with 1 Axes>"
      ]
     },
     "metadata": {},
     "output_type": "display_data"
    }
   ],
   "source": [
    "stopwords_newlist = [\"https\", \"co\"] + list(STOPWORDS)\n",
    "\n",
    "allwords=''.join( str(df['Description']))\n",
    "\n",
    "word_Cloud=WordCloud(width=500, height=300, random_state=21, stopwords=stopwords_newlist,\n",
    "                     max_font_size=119,max_words=50).generate(allwords)\n",
    "\n",
    "plt.imshow(word_Cloud, interpolation='bilinear')"
   ]
  }
 ],
 "metadata": {
  "kernelspec": {
   "display_name": "Python 3 (ipykernel)",
   "language": "python",
   "name": "python3"
  },
  "language_info": {
   "codemirror_mode": {
    "name": "ipython",
    "version": 3
   },
   "file_extension": ".py",
   "mimetype": "text/x-python",
   "name": "python",
   "nbconvert_exporter": "python",
   "pygments_lexer": "ipython3",
   "version": "3.10.6"
  },
  "vscode": {
   "interpreter": {
    "hash": "5c3183615832a26a6e752fe1c57826911e31ec709aa29e730b8e3637a0be59be"
   }
  }
 },
 "nbformat": 4,
 "nbformat_minor": 2
}
