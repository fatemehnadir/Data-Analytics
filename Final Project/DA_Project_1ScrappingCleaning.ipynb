{
 "cells": [
  {
   "cell_type": "code",
   "execution_count": 318,
   "id": "2561c124",
   "metadata": {},
   "outputs": [],
   "source": [
    "import csv\n",
    "import requests\n",
    "from bs4 import BeautifulSoup"
   ]
  },
  {
   "cell_type": "markdown",
   "id": "4af6f583",
   "metadata": {},
   "source": [
    "## Collect 1000 movies"
   ]
  },
  {
   "cell_type": "code",
   "execution_count": 322,
   "id": "44a8cccb",
   "metadata": {},
   "outputs": [
    {
     "name": "stdout",
     "output_type": "stream",
     "text": [
      "1\n",
      "51\n",
      "101\n",
      "151\n",
      "201\n",
      "251\n",
      "301\n",
      "351\n",
      "401\n",
      "451\n",
      "501\n",
      "551\n",
      "601\n",
      "651\n",
      "701\n",
      "751\n",
      "801\n",
      "851\n",
      "901\n",
      "951\n"
     ]
    }
   ],
   "source": [
    "URL = \"https://www.imdb.com/search/title/?groups=top_1000&start=\" #1 \"&ref_=adv_nxt\"\n",
    "\n",
    "start_number = 1\n",
    "\n",
    "filecsv = open('movies1.csv', 'w', encoding='utf8')\n",
    "csv_columns = ['Name', 'Date' ,'Certificate', 'Duration', 'Votes', 'IMDB', 'Metascore', 'Director', \n",
    "               'Star1', 'Star2', 'Star3', 'Star4', 'Summary', 'Genre']\n",
    "writer = csv.DictWriter(filecsv, fieldnames=csv_columns)\n",
    "writer.writeheader()\n",
    "\n",
    "# there are 20 pages, each containing 50 movies\n",
    "for start in range(1,1001,50): #1000\n",
    "    print(start)\n",
    "    try:\n",
    "        r = requests.get(URL + str(start) + \"&ref_=adv_nxt\")\n",
    "    except requests.exceptions.ConnectionError:\n",
    "        r.status_code = \"Connection refused\"\n",
    "    \n",
    "    \n",
    "    soup = BeautifulSoup(r.content, \"html.parser\") # first argument is the html content that needs to be parsed \n",
    "                                                   # and the second argumnent is the html parser that will be used\n",
    "    \n",
    "    ancher = soup.find_all('div', {'class':'lister-item mode-advanced'}) \n",
    "    for mv in ancher:\n",
    "        name = mv.find('h3', {'class':'lister-item-header'}).find('a').text\n",
    "        year = mv.find('span', {'class':'lister-item-year text-muted unbold'}).text\n",
    "        year = year.strip('(')[0:4]\n",
    "        certif = mv.find('span', {'class':'certificate'})\n",
    "#         print(certif)\n",
    "        if certif:\n",
    "            certificate = certif.text\n",
    "        else:\n",
    "            certificate = 'NULL'\n",
    "        runtime = mv.find('span', {'class':'runtime'}).text.split()[0]\n",
    "        genre = mv.find('span', {'class':'genre'}).text.split(',')[0].split('\\n')[1]\n",
    "        #imdb = mv.find('span', {'calss':''})\n",
    "        imdb_ = mv.find('strong')\n",
    "        if imdb_:\n",
    "            imdb = imdb_.text\n",
    "        else:\n",
    "            imdb = 'NULL'\n",
    "            \n",
    "        meta_ = mv.find('div', {'class':'inline-block ratings-metascore'})\n",
    "        if meta_:\n",
    "            metascore = meta_.text.split('\\n')[1].split()[0]\n",
    "        else:\n",
    "            metascore = 'NULL'\n",
    "            \n",
    "        vote = mv.find('span', {'name':'nv'})\n",
    "        if vote:\n",
    "            votes = vote.text\n",
    "        else:\n",
    "            votes = 'NULL'\n",
    "            \n",
    "        prsn = mv.find('p', {'class':''}).find_all('a')\n",
    "        for i in range(0,len(prsn)):\n",
    "            if i == 0:\n",
    "                director = prsn[i].text\n",
    "            else:\n",
    "                star = 'star' + str(i)\n",
    "                if prsn[i]:\n",
    "                    locals()[star] = prsn[i].text\n",
    "                else:\n",
    "                    locals()[star] = 'NULL'\n",
    "        summ = mv.find_all('p', {'class':'text-muted'})[1].text\n",
    "\n",
    "        writer.writerow({'Name':name, 'Date':year ,'Certificate':certificate, 'Duration':runtime, 'Votes':votes, \n",
    "                         'IMDB':imdb, 'Metascore':metascore, 'Director':director, \n",
    "                         'Star1':star1, 'Star2':star2, 'Star3':star3, 'Star4':star4, 'Summary':summ, 'Genre':genre})"
   ]
  },
  {
   "cell_type": "code",
   "execution_count": 353,
   "id": "d86093c8",
   "metadata": {},
   "outputs": [
    {
     "data": {
      "text/html": [
       "<div>\n",
       "<style scoped>\n",
       "    .dataframe tbody tr th:only-of-type {\n",
       "        vertical-align: middle;\n",
       "    }\n",
       "\n",
       "    .dataframe tbody tr th {\n",
       "        vertical-align: top;\n",
       "    }\n",
       "\n",
       "    .dataframe thead th {\n",
       "        text-align: right;\n",
       "    }\n",
       "</style>\n",
       "<table border=\"1\" class=\"dataframe\">\n",
       "  <thead>\n",
       "    <tr style=\"text-align: right;\">\n",
       "      <th></th>\n",
       "      <th>Name</th>\n",
       "      <th>Date</th>\n",
       "      <th>Certificate</th>\n",
       "      <th>Duration</th>\n",
       "      <th>Votes</th>\n",
       "      <th>IMDB</th>\n",
       "      <th>Metascore</th>\n",
       "      <th>Director</th>\n",
       "      <th>Star1</th>\n",
       "      <th>Star2</th>\n",
       "      <th>Star3</th>\n",
       "      <th>Star4</th>\n",
       "      <th>Summary</th>\n",
       "      <th>Genre</th>\n",
       "    </tr>\n",
       "  </thead>\n",
       "  <tbody>\n",
       "    <tr>\n",
       "      <th>0</th>\n",
       "      <td>Avatar: The Way of Water</td>\n",
       "      <td>2022</td>\n",
       "      <td>PG-13</td>\n",
       "      <td>192</td>\n",
       "      <td>248,978</td>\n",
       "      <td>7.9</td>\n",
       "      <td>67.0</td>\n",
       "      <td>James Cameron</td>\n",
       "      <td>Sam Worthington</td>\n",
       "      <td>Zoe Saldana</td>\n",
       "      <td>Sigourney Weaver</td>\n",
       "      <td>Stephen Lang</td>\n",
       "      <td>Jake Sully lives with his newfound family form...</td>\n",
       "      <td>Action</td>\n",
       "    </tr>\n",
       "    <tr>\n",
       "      <th>1</th>\n",
       "      <td>The Banshees of Inisherin</td>\n",
       "      <td>2022</td>\n",
       "      <td>R</td>\n",
       "      <td>114</td>\n",
       "      <td>91,268</td>\n",
       "      <td>7.8</td>\n",
       "      <td>87.0</td>\n",
       "      <td>Martin McDonagh</td>\n",
       "      <td>Colin Farrell</td>\n",
       "      <td>Brendan Gleeson</td>\n",
       "      <td>Kerry Condon</td>\n",
       "      <td>Barry Keoghan</td>\n",
       "      <td>Two lifelong friends find themselves at an imp...</td>\n",
       "      <td>Comedy</td>\n",
       "    </tr>\n",
       "    <tr>\n",
       "      <th>2</th>\n",
       "      <td>Puss in Boots: The Last Wish</td>\n",
       "      <td>2022</td>\n",
       "      <td>PG</td>\n",
       "      <td>102</td>\n",
       "      <td>41,592</td>\n",
       "      <td>7.8</td>\n",
       "      <td>75.0</td>\n",
       "      <td>Joel Crawford</td>\n",
       "      <td>Januel Mercado</td>\n",
       "      <td>Antonio Banderas</td>\n",
       "      <td>Salma Hayek</td>\n",
       "      <td>Harvey Guillén</td>\n",
       "      <td>When Puss in Boots discovers that his passion ...</td>\n",
       "      <td>Animation</td>\n",
       "    </tr>\n",
       "    <tr>\n",
       "      <th>3</th>\n",
       "      <td>Everything Everywhere All at Once</td>\n",
       "      <td>2022</td>\n",
       "      <td>R</td>\n",
       "      <td>139</td>\n",
       "      <td>291,967</td>\n",
       "      <td>8.0</td>\n",
       "      <td>81.0</td>\n",
       "      <td>Dan Kwan</td>\n",
       "      <td>Daniel Scheinert</td>\n",
       "      <td>Michelle Yeoh</td>\n",
       "      <td>Stephanie Hsu</td>\n",
       "      <td>Jamie Lee Curtis</td>\n",
       "      <td>A middle-aged Chinese immigrant is swept up in...</td>\n",
       "      <td>Action</td>\n",
       "    </tr>\n",
       "    <tr>\n",
       "      <th>4</th>\n",
       "      <td>The Fabelmans</td>\n",
       "      <td>2022</td>\n",
       "      <td>PG-13</td>\n",
       "      <td>151</td>\n",
       "      <td>35,269</td>\n",
       "      <td>7.7</td>\n",
       "      <td>84.0</td>\n",
       "      <td>Steven Spielberg</td>\n",
       "      <td>Michelle Williams</td>\n",
       "      <td>Gabriel LaBelle</td>\n",
       "      <td>Paul Dano</td>\n",
       "      <td>Judd Hirsch</td>\n",
       "      <td>Growing up in post-World War II era Arizona, y...</td>\n",
       "      <td>Drama</td>\n",
       "    </tr>\n",
       "    <tr>\n",
       "      <th>...</th>\n",
       "      <td>...</td>\n",
       "      <td>...</td>\n",
       "      <td>...</td>\n",
       "      <td>...</td>\n",
       "      <td>...</td>\n",
       "      <td>...</td>\n",
       "      <td>...</td>\n",
       "      <td>...</td>\n",
       "      <td>...</td>\n",
       "      <td>...</td>\n",
       "      <td>...</td>\n",
       "      <td>...</td>\n",
       "      <td>...</td>\n",
       "      <td>...</td>\n",
       "    </tr>\n",
       "    <tr>\n",
       "      <th>988</th>\n",
       "      <td>Padman</td>\n",
       "      <td>2018</td>\n",
       "      <td>PG-13</td>\n",
       "      <td>140</td>\n",
       "      <td>26,757</td>\n",
       "      <td>7.9</td>\n",
       "      <td>NaN</td>\n",
       "      <td>R. Balki</td>\n",
       "      <td>Akshay Kumar</td>\n",
       "      <td>Radhika Apte</td>\n",
       "      <td>Sonam Kapoor</td>\n",
       "      <td>Jyoti Subhash</td>\n",
       "      <td>Upon realizing the extent to which women are a...</td>\n",
       "      <td>Biography</td>\n",
       "    </tr>\n",
       "    <tr>\n",
       "      <th>989</th>\n",
       "      <td>Vizontele</td>\n",
       "      <td>2001</td>\n",
       "      <td>NaN</td>\n",
       "      <td>110</td>\n",
       "      <td>37,190</td>\n",
       "      <td>8.0</td>\n",
       "      <td>NaN</td>\n",
       "      <td>Yilmaz Erdogan</td>\n",
       "      <td>Ömer Faruk Sorak</td>\n",
       "      <td>Yilmaz Erdogan</td>\n",
       "      <td>Demet Akbag</td>\n",
       "      <td>Altan Erkekli</td>\n",
       "      <td>Lives of residents in a small, Anatolian villa...</td>\n",
       "      <td>Comedy</td>\n",
       "    </tr>\n",
       "    <tr>\n",
       "      <th>990</th>\n",
       "      <td>Kahaani</td>\n",
       "      <td>2012</td>\n",
       "      <td>NaN</td>\n",
       "      <td>122</td>\n",
       "      <td>63,464</td>\n",
       "      <td>8.1</td>\n",
       "      <td>NaN</td>\n",
       "      <td>Sujoy Ghosh</td>\n",
       "      <td>Vidya Balan</td>\n",
       "      <td>Parambrata Chattopadhyay</td>\n",
       "      <td>Indraneil Sengupta</td>\n",
       "      <td>Nawazuddin Siddiqui</td>\n",
       "      <td>A pregnant woman's search for her missing husb...</td>\n",
       "      <td>Mystery</td>\n",
       "    </tr>\n",
       "    <tr>\n",
       "      <th>991</th>\n",
       "      <td>Udaan</td>\n",
       "      <td>2010</td>\n",
       "      <td>NaN</td>\n",
       "      <td>134</td>\n",
       "      <td>45,476</td>\n",
       "      <td>8.1</td>\n",
       "      <td>NaN</td>\n",
       "      <td>Vikramaditya Motwane</td>\n",
       "      <td>Rajat Barmecha</td>\n",
       "      <td>Ronit Roy</td>\n",
       "      <td>Manjot Singh</td>\n",
       "      <td>Ram Kapoor</td>\n",
       "      <td>Expelled from his school, a 16-year old boy re...</td>\n",
       "      <td>Drama</td>\n",
       "    </tr>\n",
       "    <tr>\n",
       "      <th>992</th>\n",
       "      <td>Anand</td>\n",
       "      <td>1971</td>\n",
       "      <td>NaN</td>\n",
       "      <td>122</td>\n",
       "      <td>34,142</td>\n",
       "      <td>8.1</td>\n",
       "      <td>NaN</td>\n",
       "      <td>Hrishikesh Mukherjee</td>\n",
       "      <td>Rajesh Khanna</td>\n",
       "      <td>Amitabh Bachchan</td>\n",
       "      <td>Sumita Sanyal</td>\n",
       "      <td>Ramesh Deo</td>\n",
       "      <td>The story of a terminally ill man who wishes t...</td>\n",
       "      <td>Drama</td>\n",
       "    </tr>\n",
       "  </tbody>\n",
       "</table>\n",
       "<p>993 rows × 14 columns</p>\n",
       "</div>"
      ],
      "text/plain": [
       "                                  Name  Date Certificate  Duration    Votes  \\\n",
       "0             Avatar: The Way of Water  2022       PG-13       192  248,978   \n",
       "1            The Banshees of Inisherin  2022           R       114   91,268   \n",
       "2         Puss in Boots: The Last Wish  2022          PG       102   41,592   \n",
       "3    Everything Everywhere All at Once  2022           R       139  291,967   \n",
       "4                        The Fabelmans  2022       PG-13       151   35,269   \n",
       "..                                 ...   ...         ...       ...      ...   \n",
       "988                             Padman  2018       PG-13       140   26,757   \n",
       "989                          Vizontele  2001         NaN       110   37,190   \n",
       "990                            Kahaani  2012         NaN       122   63,464   \n",
       "991                              Udaan  2010         NaN       134   45,476   \n",
       "992                              Anand  1971         NaN       122   34,142   \n",
       "\n",
       "     IMDB  Metascore              Director              Star1  \\\n",
       "0     7.9       67.0         James Cameron    Sam Worthington   \n",
       "1     7.8       87.0       Martin McDonagh      Colin Farrell   \n",
       "2     7.8       75.0         Joel Crawford     Januel Mercado   \n",
       "3     8.0       81.0              Dan Kwan   Daniel Scheinert   \n",
       "4     7.7       84.0      Steven Spielberg  Michelle Williams   \n",
       "..    ...        ...                   ...                ...   \n",
       "988   7.9        NaN              R. Balki       Akshay Kumar   \n",
       "989   8.0        NaN        Yilmaz Erdogan   Ömer Faruk Sorak   \n",
       "990   8.1        NaN           Sujoy Ghosh        Vidya Balan   \n",
       "991   8.1        NaN  Vikramaditya Motwane     Rajat Barmecha   \n",
       "992   8.1        NaN  Hrishikesh Mukherjee      Rajesh Khanna   \n",
       "\n",
       "                        Star2               Star3                Star4  \\\n",
       "0                 Zoe Saldana    Sigourney Weaver         Stephen Lang   \n",
       "1             Brendan Gleeson        Kerry Condon        Barry Keoghan   \n",
       "2            Antonio Banderas         Salma Hayek       Harvey Guillén   \n",
       "3               Michelle Yeoh       Stephanie Hsu     Jamie Lee Curtis   \n",
       "4             Gabriel LaBelle           Paul Dano          Judd Hirsch   \n",
       "..                        ...                 ...                  ...   \n",
       "988              Radhika Apte        Sonam Kapoor        Jyoti Subhash   \n",
       "989            Yilmaz Erdogan         Demet Akbag        Altan Erkekli   \n",
       "990  Parambrata Chattopadhyay  Indraneil Sengupta  Nawazuddin Siddiqui   \n",
       "991                 Ronit Roy        Manjot Singh           Ram Kapoor   \n",
       "992          Amitabh Bachchan       Sumita Sanyal           Ramesh Deo   \n",
       "\n",
       "                                               Summary              Genre  \n",
       "0    Jake Sully lives with his newfound family form...             Action  \n",
       "1    Two lifelong friends find themselves at an imp...             Comedy  \n",
       "2    When Puss in Boots discovers that his passion ...          Animation  \n",
       "3    A middle-aged Chinese immigrant is swept up in...             Action  \n",
       "4    Growing up in post-World War II era Arizona, y...  Drama              \n",
       "..                                                 ...                ...  \n",
       "988  Upon realizing the extent to which women are a...          Biography  \n",
       "989  Lives of residents in a small, Anatolian villa...             Comedy  \n",
       "990  A pregnant woman's search for her missing husb...            Mystery  \n",
       "991  Expelled from his school, a 16-year old boy re...  Drama              \n",
       "992  The story of a terminally ill man who wishes t...              Drama  \n",
       "\n",
       "[993 rows x 14 columns]"
      ]
     },
     "execution_count": 353,
     "metadata": {},
     "output_type": "execute_result"
    }
   ],
   "source": [
    "df1 = pd.read_csv('movies1.csv')\n",
    "df1['Summary'] = df1['Summary'].str.strip()\n",
    "df1"
   ]
  },
  {
   "cell_type": "code",
   "execution_count": 330,
   "id": "3cdd9163",
   "metadata": {},
   "outputs": [
    {
     "name": "stdout",
     "output_type": "stream",
     "text": [
      "#null values in df1:\n",
      " Name             0\n",
      "Date             0\n",
      "Certificate    443\n",
      "Duration         0\n",
      "Votes            0\n",
      "IMDB             0\n",
      "Metascore      153\n",
      "Director         0\n",
      "Star1            0\n",
      "Star2            0\n",
      "Star3            0\n",
      "Star4            0\n",
      "Summary          0\n",
      "Genre            0\n",
      "dtype: int64\n"
     ]
    }
   ],
   "source": [
    "print(\"#null values in df1:\\n\", df1.isna().sum(axis=0))"
   ]
  },
  {
   "cell_type": "markdown",
   "id": "bcbf4ef7",
   "metadata": {},
   "source": [
    "## Read data"
   ]
  },
  {
   "cell_type": "code",
   "execution_count": 354,
   "id": "fad2b03c",
   "metadata": {
    "scrolled": false
   },
   "outputs": [
    {
     "data": {
      "text/html": [
       "<div>\n",
       "<style scoped>\n",
       "    .dataframe tbody tr th:only-of-type {\n",
       "        vertical-align: middle;\n",
       "    }\n",
       "\n",
       "    .dataframe tbody tr th {\n",
       "        vertical-align: top;\n",
       "    }\n",
       "\n",
       "    .dataframe thead th {\n",
       "        text-align: right;\n",
       "    }\n",
       "</style>\n",
       "<table border=\"1\" class=\"dataframe\">\n",
       "  <thead>\n",
       "    <tr style=\"text-align: right;\">\n",
       "      <th></th>\n",
       "      <th>Name</th>\n",
       "      <th>Date</th>\n",
       "      <th>Certificate</th>\n",
       "      <th>Duration</th>\n",
       "      <th>Votes</th>\n",
       "      <th>IMDB</th>\n",
       "      <th>Metascore</th>\n",
       "      <th>Director</th>\n",
       "      <th>Star1</th>\n",
       "      <th>Star2</th>\n",
       "      <th>Star3</th>\n",
       "      <th>Star4</th>\n",
       "      <th>Genre</th>\n",
       "    </tr>\n",
       "  </thead>\n",
       "  <tbody>\n",
       "    <tr>\n",
       "      <th>0</th>\n",
       "      <td>Avatar: The Way of Water</td>\n",
       "      <td>2022</td>\n",
       "      <td>PG-13</td>\n",
       "      <td>192</td>\n",
       "      <td>181,876</td>\n",
       "      <td>7.9</td>\n",
       "      <td>67.0</td>\n",
       "      <td>James Cameron</td>\n",
       "      <td>Sam Worthington</td>\n",
       "      <td>Zoe Saldana</td>\n",
       "      <td>Sigourney Weaver</td>\n",
       "      <td>Stephen Lang</td>\n",
       "      <td>Action</td>\n",
       "    </tr>\n",
       "    <tr>\n",
       "      <th>1</th>\n",
       "      <td>Knives Out</td>\n",
       "      <td>2019</td>\n",
       "      <td>PG-13</td>\n",
       "      <td>130</td>\n",
       "      <td>663,687</td>\n",
       "      <td>7.9</td>\n",
       "      <td>82.0</td>\n",
       "      <td>Rian Johnson</td>\n",
       "      <td>Daniel Craig</td>\n",
       "      <td>Chris Evans</td>\n",
       "      <td>Ana de Armas</td>\n",
       "      <td>Jamie Lee Curtis</td>\n",
       "      <td>Comedy</td>\n",
       "    </tr>\n",
       "    <tr>\n",
       "      <th>2</th>\n",
       "      <td>Avatar</td>\n",
       "      <td>2009</td>\n",
       "      <td>PG-13</td>\n",
       "      <td>162</td>\n",
       "      <td>1,289,325</td>\n",
       "      <td>7.9</td>\n",
       "      <td>83.0</td>\n",
       "      <td>James Cameron</td>\n",
       "      <td>Sam Worthington</td>\n",
       "      <td>Zoe Saldana</td>\n",
       "      <td>Sigourney Weaver</td>\n",
       "      <td>Michelle Rodriguez</td>\n",
       "      <td>Action</td>\n",
       "    </tr>\n",
       "    <tr>\n",
       "      <th>3</th>\n",
       "      <td>The Banshees of Inisherin</td>\n",
       "      <td>2022</td>\n",
       "      <td>R</td>\n",
       "      <td>114</td>\n",
       "      <td>60,799</td>\n",
       "      <td>7.9</td>\n",
       "      <td>87.0</td>\n",
       "      <td>Martin McDonagh</td>\n",
       "      <td>Colin Farrell</td>\n",
       "      <td>Brendan Gleeson</td>\n",
       "      <td>Kerry Condon</td>\n",
       "      <td>Pat Shortt</td>\n",
       "      <td>Comedy</td>\n",
       "    </tr>\n",
       "    <tr>\n",
       "      <th>4</th>\n",
       "      <td>A Christmas Story</td>\n",
       "      <td>1983</td>\n",
       "      <td>NaN</td>\n",
       "      <td>93</td>\n",
       "      <td>159,045</td>\n",
       "      <td>7.9</td>\n",
       "      <td>77.0</td>\n",
       "      <td>Bob Clark</td>\n",
       "      <td>Peter Billingsley</td>\n",
       "      <td>Melinda Dillon</td>\n",
       "      <td>Darren McGavin</td>\n",
       "      <td>Scott Schwartz</td>\n",
       "      <td>Comedy</td>\n",
       "    </tr>\n",
       "    <tr>\n",
       "      <th>5</th>\n",
       "      <td>Top Gun: Maverick</td>\n",
       "      <td>2022</td>\n",
       "      <td>PG-13</td>\n",
       "      <td>130</td>\n",
       "      <td>476,830</td>\n",
       "      <td>8.4</td>\n",
       "      <td>78.0</td>\n",
       "      <td>Joseph Kosinski</td>\n",
       "      <td>Tom Cruise</td>\n",
       "      <td>Jennifer Connelly</td>\n",
       "      <td>Miles Teller</td>\n",
       "      <td>Val Kilmer</td>\n",
       "      <td>Action</td>\n",
       "    </tr>\n",
       "    <tr>\n",
       "      <th>6</th>\n",
       "      <td>Home Alone</td>\n",
       "      <td>1990</td>\n",
       "      <td>NaN</td>\n",
       "      <td>103</td>\n",
       "      <td>589,974</td>\n",
       "      <td>7.7</td>\n",
       "      <td>63.0</td>\n",
       "      <td>Chris Columbus</td>\n",
       "      <td>Macaulay Culkin</td>\n",
       "      <td>Joe Pesci</td>\n",
       "      <td>Daniel Stern</td>\n",
       "      <td>John Heard</td>\n",
       "      <td>Comedy</td>\n",
       "    </tr>\n",
       "    <tr>\n",
       "      <th>7</th>\n",
       "      <td>It's a Wonderful Life</td>\n",
       "      <td>1946</td>\n",
       "      <td>PG</td>\n",
       "      <td>130</td>\n",
       "      <td>463,369</td>\n",
       "      <td>8.6</td>\n",
       "      <td>89.0</td>\n",
       "      <td>Frank Capra</td>\n",
       "      <td>James Stewart</td>\n",
       "      <td>Donna Reed</td>\n",
       "      <td>Lionel Barrymore</td>\n",
       "      <td>Thomas Mitchell</td>\n",
       "      <td>Drama</td>\n",
       "    </tr>\n",
       "    <tr>\n",
       "      <th>8</th>\n",
       "      <td>Guillermo del Toro's Pinocchio</td>\n",
       "      <td>2022</td>\n",
       "      <td>PG</td>\n",
       "      <td>117</td>\n",
       "      <td>56,376</td>\n",
       "      <td>7.7</td>\n",
       "      <td>79.0</td>\n",
       "      <td>Guillermo del Toro</td>\n",
       "      <td>Mark Gustafson</td>\n",
       "      <td>Ewan McGregor</td>\n",
       "      <td>David Bradley</td>\n",
       "      <td>Gregory Mann</td>\n",
       "      <td>Animation</td>\n",
       "    </tr>\n",
       "    <tr>\n",
       "      <th>9</th>\n",
       "      <td>Everything Everywhere All at Once</td>\n",
       "      <td>2022</td>\n",
       "      <td>R</td>\n",
       "      <td>139</td>\n",
       "      <td>270,394</td>\n",
       "      <td>8.1</td>\n",
       "      <td>81.0</td>\n",
       "      <td>Dan Kwan</td>\n",
       "      <td>Daniel Scheinert</td>\n",
       "      <td>Michelle Yeoh</td>\n",
       "      <td>Stephanie Hsu</td>\n",
       "      <td>Jamie Lee Curtis</td>\n",
       "      <td>Action</td>\n",
       "    </tr>\n",
       "    <tr>\n",
       "      <th>10</th>\n",
       "      <td>Die Hard</td>\n",
       "      <td>1988</td>\n",
       "      <td>NaN</td>\n",
       "      <td>132</td>\n",
       "      <td>885,637</td>\n",
       "      <td>8.2</td>\n",
       "      <td>72.0</td>\n",
       "      <td>John McTiernan</td>\n",
       "      <td>Bruce Willis</td>\n",
       "      <td>Alan Rickman</td>\n",
       "      <td>Bonnie Bedelia</td>\n",
       "      <td>Reginald VelJohnson</td>\n",
       "      <td>Action</td>\n",
       "    </tr>\n",
       "    <tr>\n",
       "      <th>11</th>\n",
       "      <td>The Batman</td>\n",
       "      <td>2022</td>\n",
       "      <td>PG-13</td>\n",
       "      <td>176</td>\n",
       "      <td>647,193</td>\n",
       "      <td>7.8</td>\n",
       "      <td>72.0</td>\n",
       "      <td>Matt Reeves</td>\n",
       "      <td>Robert Pattinson</td>\n",
       "      <td>Zoë Kravitz</td>\n",
       "      <td>Jeffrey Wright</td>\n",
       "      <td>Colin Farrell</td>\n",
       "      <td>Action</td>\n",
       "    </tr>\n",
       "    <tr>\n",
       "      <th>12</th>\n",
       "      <td>Harry Potter and the Sorcerer's Stone</td>\n",
       "      <td>2001</td>\n",
       "      <td>PG</td>\n",
       "      <td>152</td>\n",
       "      <td>783,664</td>\n",
       "      <td>7.6</td>\n",
       "      <td>65.0</td>\n",
       "      <td>Chris Columbus</td>\n",
       "      <td>Daniel Radcliffe</td>\n",
       "      <td>Rupert Grint</td>\n",
       "      <td>Richard Harris</td>\n",
       "      <td>Maggie Smith</td>\n",
       "      <td>Adventure</td>\n",
       "    </tr>\n",
       "    <tr>\n",
       "      <th>13</th>\n",
       "      <td>Im Westen nichts Neues</td>\n",
       "      <td>2022</td>\n",
       "      <td>R</td>\n",
       "      <td>148</td>\n",
       "      <td>95,974</td>\n",
       "      <td>7.8</td>\n",
       "      <td>76.0</td>\n",
       "      <td>Edward Berger</td>\n",
       "      <td>Felix Kammerer</td>\n",
       "      <td>Albrecht Schuch</td>\n",
       "      <td>Aaron Hilmer</td>\n",
       "      <td>Moritz Klaus</td>\n",
       "      <td>Action</td>\n",
       "    </tr>\n",
       "    <tr>\n",
       "      <th>14</th>\n",
       "      <td>The Godfather</td>\n",
       "      <td>1972</td>\n",
       "      <td>NaN</td>\n",
       "      <td>175</td>\n",
       "      <td>1,857,940</td>\n",
       "      <td>9.2</td>\n",
       "      <td>100.0</td>\n",
       "      <td>Francis Ford Coppola</td>\n",
       "      <td>Marlon Brando</td>\n",
       "      <td>Al Pacino</td>\n",
       "      <td>James Caan</td>\n",
       "      <td>Diane Keaton</td>\n",
       "      <td>Crime</td>\n",
       "    </tr>\n",
       "    <tr>\n",
       "      <th>15</th>\n",
       "      <td>Klaus</td>\n",
       "      <td>2019</td>\n",
       "      <td>PG</td>\n",
       "      <td>96</td>\n",
       "      <td>158,700</td>\n",
       "      <td>8.1</td>\n",
       "      <td>65.0</td>\n",
       "      <td>Sergio Pablos</td>\n",
       "      <td>Carlos Martínez López</td>\n",
       "      <td>Jason Schwartzman</td>\n",
       "      <td>J.K. Simmons</td>\n",
       "      <td>Rashida Jones</td>\n",
       "      <td>Animation</td>\n",
       "    </tr>\n",
       "    <tr>\n",
       "      <th>16</th>\n",
       "      <td>1917</td>\n",
       "      <td>2019</td>\n",
       "      <td>R</td>\n",
       "      <td>119</td>\n",
       "      <td>592,187</td>\n",
       "      <td>8.2</td>\n",
       "      <td>78.0</td>\n",
       "      <td>Sam Mendes</td>\n",
       "      <td>Dean-Charles Chapman</td>\n",
       "      <td>George MacKay</td>\n",
       "      <td>Daniel Mays</td>\n",
       "      <td>Colin Firth</td>\n",
       "      <td>Action</td>\n",
       "    </tr>\n",
       "    <tr>\n",
       "      <th>17</th>\n",
       "      <td>Prisoners</td>\n",
       "      <td>2013</td>\n",
       "      <td>R</td>\n",
       "      <td>153</td>\n",
       "      <td>718,992</td>\n",
       "      <td>8.1</td>\n",
       "      <td>70.0</td>\n",
       "      <td>Denis Villeneuve</td>\n",
       "      <td>Hugh Jackman</td>\n",
       "      <td>Jake Gyllenhaal</td>\n",
       "      <td>Viola Davis</td>\n",
       "      <td>Melissa Leo</td>\n",
       "      <td>Crime</td>\n",
       "    </tr>\n",
       "    <tr>\n",
       "      <th>18</th>\n",
       "      <td>The Muppet Christmas Carol</td>\n",
       "      <td>1992</td>\n",
       "      <td>NaN</td>\n",
       "      <td>85</td>\n",
       "      <td>63,154</td>\n",
       "      <td>7.7</td>\n",
       "      <td>64.0</td>\n",
       "      <td>Brian Henson</td>\n",
       "      <td>Michael Caine</td>\n",
       "      <td>Dave Goelz</td>\n",
       "      <td>Steve Whitmire</td>\n",
       "      <td>Jerry Nelson</td>\n",
       "      <td>Comedy</td>\n",
       "    </tr>\n",
       "    <tr>\n",
       "      <th>19</th>\n",
       "      <td>The Shawshank Redemption</td>\n",
       "      <td>1994</td>\n",
       "      <td>R</td>\n",
       "      <td>142</td>\n",
       "      <td>2,679,921</td>\n",
       "      <td>9.3</td>\n",
       "      <td>81.0</td>\n",
       "      <td>Frank Darabont</td>\n",
       "      <td>Tim Robbins</td>\n",
       "      <td>Morgan Freeman</td>\n",
       "      <td>Bob Gunton</td>\n",
       "      <td>William Sadler</td>\n",
       "      <td>Drama</td>\n",
       "    </tr>\n",
       "  </tbody>\n",
       "</table>\n",
       "</div>"
      ],
      "text/plain": [
       "                                     Name  Date Certificate  Duration  \\\n",
       "0                Avatar: The Way of Water  2022       PG-13       192   \n",
       "1                              Knives Out  2019       PG-13       130   \n",
       "2                                  Avatar  2009       PG-13       162   \n",
       "3               The Banshees of Inisherin  2022           R       114   \n",
       "4                       A Christmas Story  1983         NaN        93   \n",
       "5                       Top Gun: Maverick  2022       PG-13       130   \n",
       "6                              Home Alone  1990         NaN       103   \n",
       "7                   It's a Wonderful Life  1946          PG       130   \n",
       "8          Guillermo del Toro's Pinocchio  2022          PG       117   \n",
       "9       Everything Everywhere All at Once  2022           R       139   \n",
       "10                               Die Hard  1988         NaN       132   \n",
       "11                             The Batman  2022       PG-13       176   \n",
       "12  Harry Potter and the Sorcerer's Stone  2001          PG       152   \n",
       "13                 Im Westen nichts Neues  2022           R       148   \n",
       "14                          The Godfather  1972         NaN       175   \n",
       "15                                  Klaus  2019          PG        96   \n",
       "16                                   1917  2019           R       119   \n",
       "17                              Prisoners  2013           R       153   \n",
       "18             The Muppet Christmas Carol  1992         NaN        85   \n",
       "19               The Shawshank Redemption  1994           R       142   \n",
       "\n",
       "        Votes  IMDB  Metascore              Director                  Star1  \\\n",
       "0     181,876   7.9       67.0         James Cameron        Sam Worthington   \n",
       "1     663,687   7.9       82.0          Rian Johnson           Daniel Craig   \n",
       "2   1,289,325   7.9       83.0         James Cameron        Sam Worthington   \n",
       "3      60,799   7.9       87.0       Martin McDonagh          Colin Farrell   \n",
       "4     159,045   7.9       77.0             Bob Clark      Peter Billingsley   \n",
       "5     476,830   8.4       78.0       Joseph Kosinski             Tom Cruise   \n",
       "6     589,974   7.7       63.0        Chris Columbus        Macaulay Culkin   \n",
       "7     463,369   8.6       89.0           Frank Capra          James Stewart   \n",
       "8      56,376   7.7       79.0    Guillermo del Toro         Mark Gustafson   \n",
       "9     270,394   8.1       81.0              Dan Kwan       Daniel Scheinert   \n",
       "10    885,637   8.2       72.0        John McTiernan           Bruce Willis   \n",
       "11    647,193   7.8       72.0           Matt Reeves       Robert Pattinson   \n",
       "12    783,664   7.6       65.0        Chris Columbus       Daniel Radcliffe   \n",
       "13     95,974   7.8       76.0         Edward Berger         Felix Kammerer   \n",
       "14  1,857,940   9.2      100.0  Francis Ford Coppola          Marlon Brando   \n",
       "15    158,700   8.1       65.0         Sergio Pablos  Carlos Martínez López   \n",
       "16    592,187   8.2       78.0            Sam Mendes   Dean-Charles Chapman   \n",
       "17    718,992   8.1       70.0      Denis Villeneuve           Hugh Jackman   \n",
       "18     63,154   7.7       64.0          Brian Henson          Michael Caine   \n",
       "19  2,679,921   9.3       81.0        Frank Darabont            Tim Robbins   \n",
       "\n",
       "                Star2             Star3                Star4  \\\n",
       "0         Zoe Saldana  Sigourney Weaver         Stephen Lang   \n",
       "1         Chris Evans      Ana de Armas     Jamie Lee Curtis   \n",
       "2         Zoe Saldana  Sigourney Weaver   Michelle Rodriguez   \n",
       "3     Brendan Gleeson      Kerry Condon           Pat Shortt   \n",
       "4      Melinda Dillon    Darren McGavin       Scott Schwartz   \n",
       "5   Jennifer Connelly      Miles Teller           Val Kilmer   \n",
       "6           Joe Pesci      Daniel Stern           John Heard   \n",
       "7          Donna Reed  Lionel Barrymore      Thomas Mitchell   \n",
       "8       Ewan McGregor     David Bradley         Gregory Mann   \n",
       "9       Michelle Yeoh     Stephanie Hsu     Jamie Lee Curtis   \n",
       "10       Alan Rickman    Bonnie Bedelia  Reginald VelJohnson   \n",
       "11        Zoë Kravitz    Jeffrey Wright        Colin Farrell   \n",
       "12       Rupert Grint    Richard Harris         Maggie Smith   \n",
       "13    Albrecht Schuch      Aaron Hilmer         Moritz Klaus   \n",
       "14          Al Pacino        James Caan         Diane Keaton   \n",
       "15  Jason Schwartzman      J.K. Simmons        Rashida Jones   \n",
       "16      George MacKay       Daniel Mays          Colin Firth   \n",
       "17    Jake Gyllenhaal       Viola Davis          Melissa Leo   \n",
       "18         Dave Goelz    Steve Whitmire         Jerry Nelson   \n",
       "19     Morgan Freeman        Bob Gunton       William Sadler   \n",
       "\n",
       "                Genre  \n",
       "0              Action  \n",
       "1              Comedy  \n",
       "2              Action  \n",
       "3              Comedy  \n",
       "4              Comedy  \n",
       "5              Action  \n",
       "6              Comedy  \n",
       "7               Drama  \n",
       "8           Animation  \n",
       "9              Action  \n",
       "10             Action  \n",
       "11             Action  \n",
       "12          Adventure  \n",
       "13             Action  \n",
       "14              Crime  \n",
       "15          Animation  \n",
       "16             Action  \n",
       "17              Crime  \n",
       "18             Comedy  \n",
       "19  Drama              "
      ]
     },
     "execution_count": 354,
     "metadata": {},
     "output_type": "execute_result"
    }
   ],
   "source": [
    "import pandas as pd\n",
    "# data extracted with beautiful soap\n",
    "df = pd.read_csv(\"movies3.csv\")\n",
    "# data extracted with selenium\n",
    "df2 = pd.read_csv(\"movies2.csv\")\n",
    "df.head(20)"
   ]
  },
  {
   "cell_type": "markdown",
   "id": "e7495ccb",
   "metadata": {},
   "source": [
    "## Data cleaning"
   ]
  },
  {
   "cell_type": "code",
   "execution_count": 355,
   "id": "3de5b817",
   "metadata": {
    "scrolled": true
   },
   "outputs": [
    {
     "name": "stdout",
     "output_type": "stream",
     "text": [
      "#null values in df1:\n",
      " Name             0\n",
      "Date             0\n",
      "Certificate    450\n",
      "Duration         0\n",
      "Votes            0\n",
      "IMDB             0\n",
      "Metascore      160\n",
      "Director         0\n",
      "Star1            0\n",
      "Star2            0\n",
      "Star3            0\n",
      "Star4            0\n",
      "Genre            0\n",
      "dtype: int64\n"
     ]
    }
   ],
   "source": [
    "print(\"#null values in df1:\\n\", df.isna().sum(axis=0))"
   ]
  },
  {
   "cell_type": "code",
   "execution_count": 356,
   "id": "031bac0f",
   "metadata": {},
   "outputs": [
    {
     "data": {
      "text/plain": [
       "array(['PG-13', 'R', nan, 'PG', 'G', '18+', '(Banned)', 'NC-17',\n",
       "       'Approved', 'M/PG'], dtype=object)"
      ]
     },
     "execution_count": 356,
     "metadata": {},
     "output_type": "execute_result"
    }
   ],
   "source": [
    "df['Certificate'].unique()"
   ]
  },
  {
   "cell_type": "code",
   "execution_count": 357,
   "id": "82313716",
   "metadata": {},
   "outputs": [],
   "source": [
    "# wrong values collected from the website\n",
    "list1 = ['148 min','163 min','175 min', '157 min', '152 min', '109 min', '128 min']"
   ]
  },
  {
   "cell_type": "code",
   "execution_count": 358,
   "id": "69ffb506",
   "metadata": {},
   "outputs": [],
   "source": [
    "# change values of certificate in first dataset with corresponding values from the second dataset\n",
    "for index, row in df2.iterrows():\n",
    "    if (row['certificate'] not in list1):\n",
    "        df.loc[df['Name'] == row['title'], 'Certificate'] = row['certificate']"
   ]
  },
  {
   "cell_type": "code",
   "execution_count": 359,
   "id": "cbbd3127",
   "metadata": {
    "scrolled": true
   },
   "outputs": [],
   "source": [
    "df['Certificate'] =df['Certificate'].replace(['Unrated','6','12','18','16','(Banned)'], \n",
    "                                             ['Not Rated','6+','12+','18+','16+','Banned'])"
   ]
  },
  {
   "cell_type": "code",
   "execution_count": 360,
   "id": "e357257f",
   "metadata": {
    "scrolled": true
   },
   "outputs": [
    {
     "data": {
      "text/plain": [
       "array(['PG-13', 'R', 'PG', 'G', nan, 'Not Rated', 'Approved', 'Passed',\n",
       "       'NC-17', 'TV-MA', 'GP', '18+', 'TV-PG', 'TV-14', 'M/PG', '12+',\n",
       "       'Banned', '16+', '6+'], dtype=object)"
      ]
     },
     "execution_count": 360,
     "metadata": {},
     "output_type": "execute_result"
    }
   ],
   "source": [
    "df['Certificate'].unique()"
   ]
  },
  {
   "cell_type": "code",
   "execution_count": 361,
   "id": "4eac8bbe",
   "metadata": {
    "scrolled": false
   },
   "outputs": [
    {
     "name": "stdout",
     "output_type": "stream",
     "text": [
      "#null values in df1:\n",
      " Name             0\n",
      "Date             0\n",
      "Certificate    125\n",
      "Duration         0\n",
      "Votes            0\n",
      "IMDB             0\n",
      "Metascore      160\n",
      "Director         0\n",
      "Star1            0\n",
      "Star2            0\n",
      "Star3            0\n",
      "Star4            0\n",
      "Genre            0\n",
      "dtype: int64\n"
     ]
    }
   ],
   "source": [
    "print(\"#null values in df1:\\n\", df.isna().sum(axis=0))"
   ]
  },
  {
   "cell_type": "markdown",
   "id": "0102d1b9",
   "metadata": {},
   "source": [
    "### Fill null values of metascore"
   ]
  },
  {
   "cell_type": "code",
   "execution_count": 362,
   "id": "770f3920",
   "metadata": {},
   "outputs": [],
   "source": [
    "import matplotlib.pyplot as plt\n",
    "%matplotlib inline\n",
    "import seaborn as sns"
   ]
  },
  {
   "cell_type": "code",
   "execution_count": 363,
   "id": "6ccb272f",
   "metadata": {},
   "outputs": [
    {
     "data": {
      "image/png": "[encoded data removed]",
      "text/plain": [
       "<Figure size 640x480 with 1 Axes>"
      ]
     },
     "metadata": {},
     "output_type": "display_data"
    }
   ],
   "source": [
    "ax = sns.histplot(x = df['Metascore'], binwidth=2)\n",
    "ax.set(xlabel='metascore', ylabel='count', title='Distribution of Metascore')\n",
    "plt.show()"
   ]
  },
  {
   "cell_type": "code",
   "execution_count": 364,
   "id": "bc610bef",
   "metadata": {},
   "outputs": [
    {
     "data": {
      "image/png": "[encoded data removed]",
      "text/plain": [
       "<Figure size 640x480 with 1 Axes>"
      ]
     },
     "metadata": {},
     "output_type": "display_data"
    }
   ],
   "source": [
    "ax = sns.scatterplot(x=df['IMDB'], y=df['Metascore'])\n",
    "ax.set(xlabel='IMDB', ylabel='metascore', title='correlation of Metascore with IMDB');"
   ]
  },
  {
   "cell_type": "code",
   "execution_count": 365,
   "id": "201ce546",
   "metadata": {},
   "outputs": [
    {
     "name": "stdout",
     "output_type": "stream",
     "text": [
      "mean:  78.80595238095238\n",
      "median:  80.0\n",
      "mode:  0    86.0\n",
      "Name: Metascore, dtype: float64\n"
     ]
    }
   ],
   "source": [
    "print('mean: ', df['Metascore'].mean())\n",
    "print('median: ', df['Metascore'].median())\n",
    "print('mode: ', df['Metascore'].mode())"
   ]
  },
  {
   "cell_type": "code",
   "execution_count": 366,
   "id": "65fe4c52",
   "metadata": {},
   "outputs": [],
   "source": [
    "#fill null values of Metascore with median\n",
    "df['Metascore'].fillna((df['Metascore'].median()), inplace=True)"
   ]
  },
  {
   "cell_type": "code",
   "execution_count": 367,
   "id": "207dd2cc",
   "metadata": {},
   "outputs": [
    {
     "name": "stdout",
     "output_type": "stream",
     "text": [
      "#null values in df1:\n",
      " Name             0\n",
      "Date             0\n",
      "Certificate    125\n",
      "Duration         0\n",
      "Votes            0\n",
      "IMDB             0\n",
      "Metascore        0\n",
      "Director         0\n",
      "Star1            0\n",
      "Star2            0\n",
      "Star3            0\n",
      "Star4            0\n",
      "Genre            0\n",
      "dtype: int64\n"
     ]
    }
   ],
   "source": [
    "print(\"#null values in df1:\\n\", df.isna().sum(axis=0))"
   ]
  },
  {
   "cell_type": "markdown",
   "id": "597429b0",
   "metadata": {},
   "source": [
    "### Fill null values of certificate"
   ]
  },
  {
   "cell_type": "code",
   "execution_count": 368,
   "id": "13228ba7",
   "metadata": {},
   "outputs": [
    {
     "data": {
      "text/plain": [
       "array(['Action', 'Comedy', 'Drama', 'Animation', 'Adventure', 'Crime',\n",
       "       'Drama            ', 'Biography', 'Horror', 'Mystery', 'Family',\n",
       "       'Comedy            ', 'Western            ', 'Horror            ',\n",
       "       'Film-Noir', 'Fantasy', 'Thriller            '], dtype=object)"
      ]
     },
     "execution_count": 368,
     "metadata": {},
     "output_type": "execute_result"
    }
   ],
   "source": [
    "df['Genre'].unique()"
   ]
  },
  {
   "cell_type": "code",
   "execution_count": 369,
   "id": "48fbf315",
   "metadata": {},
   "outputs": [],
   "source": [
    "# delete extra white spaces from genres\n",
    "df['Genre'] = df['Genre'].str.strip()"
   ]
  },
  {
   "cell_type": "code",
   "execution_count": 370,
   "id": "1a05b2b1",
   "metadata": {},
   "outputs": [
    {
     "data": {
      "text/plain": [
       "array(['Action', 'Comedy', 'Drama', 'Animation', 'Adventure', 'Crime',\n",
       "       'Biography', 'Horror', 'Mystery', 'Family', 'Western', 'Film-Noir',\n",
       "       'Fantasy', 'Thriller'], dtype=object)"
      ]
     },
     "execution_count": 370,
     "metadata": {},
     "output_type": "execute_result"
    }
   ],
   "source": [
    "df['Genre'].unique()"
   ]
  },
  {
   "cell_type": "code",
   "execution_count": 371,
   "id": "5a577e28",
   "metadata": {
    "scrolled": true
   },
   "outputs": [
    {
     "data": {
      "text/plain": [
       "Genre\n",
       "Action                            R\n",
       "Adventure                        PG\n",
       "Animation                        PG\n",
       "Biography                         R\n",
       "Comedy                            R\n",
       "Crime                             R\n",
       "Drama                             R\n",
       "Family                            G\n",
       "Fantasy              [Not Rated, R]\n",
       "Film-Noir        [Approved, Passed]\n",
       "Horror                            R\n",
       "Mystery                     [PG, R]\n",
       "Thriller                  Not Rated\n",
       "Western      [PG, PG-13, Passed, R]\n",
       "Name: Certificate, dtype: object"
      ]
     },
     "execution_count": 371,
     "metadata": {},
     "output_type": "execute_result"
    }
   ],
   "source": [
    "# most repeated certificate of each genre\n",
    "df.groupby('Genre')['Certificate'].agg(pd.Series.mode)"
   ]
  },
  {
   "cell_type": "code",
   "execution_count": 372,
   "id": "a8d4a471",
   "metadata": {
    "scrolled": true
   },
   "outputs": [
    {
     "data": {
      "text/plain": [
       "R            352\n",
       "PG-13        165\n",
       "PG           135\n",
       "Not Rated     98\n",
       "Passed        45\n",
       "G             33\n",
       "Approved      28\n",
       "TV-MA          4\n",
       "GP             3\n",
       "NC-17          2\n",
       "TV-PG          2\n",
       "TV-14          2\n",
       "18+            1\n",
       "M/PG           1\n",
       "12+            1\n",
       "Banned         1\n",
       "16+            1\n",
       "6+             1\n",
       "Name: Certificate, dtype: int64"
      ]
     },
     "execution_count": 372,
     "metadata": {},
     "output_type": "execute_result"
    }
   ],
   "source": [
    "df['Certificate'].value_counts()"
   ]
  },
  {
   "cell_type": "markdown",
   "id": "6207d6d1",
   "metadata": {},
   "source": [
    "R – Restricted\n",
    "Under 17 requires accompanying parent or adult guardian. Contains some adult material. Parents are urged to learn more about the film before taking their young children with them."
   ]
  },
  {
   "cell_type": "code",
   "execution_count": 373,
   "id": "b7276d52",
   "metadata": {},
   "outputs": [],
   "source": [
    "df['Certificate'] = df['Certificate'].fillna('R')"
   ]
  },
  {
   "cell_type": "code",
   "execution_count": 374,
   "id": "b0572231",
   "metadata": {},
   "outputs": [
    {
     "name": "stdout",
     "output_type": "stream",
     "text": [
      "#null values in df1:\n",
      " Name           0\n",
      "Date           0\n",
      "Certificate    0\n",
      "Duration       0\n",
      "Votes          0\n",
      "IMDB           0\n",
      "Metascore      0\n",
      "Director       0\n",
      "Star1          0\n",
      "Star2          0\n",
      "Star3          0\n",
      "Star4          0\n",
      "Genre          0\n",
      "dtype: int64\n"
     ]
    }
   ],
   "source": [
    "print(\"#null values in df1:\\n\", df.isna().sum(axis=0))"
   ]
  },
  {
   "cell_type": "code",
   "execution_count": 375,
   "id": "f896f129",
   "metadata": {
    "scrolled": true
   },
   "outputs": [
    {
     "data": {
      "text/plain": [
       "R            477\n",
       "PG-13        165\n",
       "PG           135\n",
       "Not Rated     98\n",
       "Passed        45\n",
       "G             33\n",
       "Approved      28\n",
       "TV-MA          4\n",
       "GP             3\n",
       "NC-17          2\n",
       "TV-PG          2\n",
       "TV-14          2\n",
       "18+            1\n",
       "M/PG           1\n",
       "12+            1\n",
       "Banned         1\n",
       "16+            1\n",
       "6+             1\n",
       "Name: Certificate, dtype: int64"
      ]
     },
     "execution_count": 375,
     "metadata": {},
     "output_type": "execute_result"
    }
   ],
   "source": [
    "df['Certificate'].value_counts()"
   ]
  },
  {
   "cell_type": "markdown",
   "id": "2aa46d24",
   "metadata": {},
   "source": [
    "### Duplicate values"
   ]
  },
  {
   "cell_type": "code",
   "execution_count": 383,
   "id": "e23ac454",
   "metadata": {},
   "outputs": [
    {
     "data": {
      "text/plain": [
       "0"
      ]
     },
     "execution_count": 383,
     "metadata": {},
     "output_type": "execute_result"
    }
   ],
   "source": [
    "df.duplicated().sum()"
   ]
  },
  {
   "cell_type": "markdown",
   "id": "15052c85",
   "metadata": {},
   "source": [
    "### Column type"
   ]
  },
  {
   "cell_type": "code",
   "execution_count": 376,
   "id": "2986cefd",
   "metadata": {
    "scrolled": true
   },
   "outputs": [
    {
     "data": {
      "text/plain": [
       "Name            object\n",
       "Date             int64\n",
       "Certificate     object\n",
       "Duration         int64\n",
       "Votes           object\n",
       "IMDB           float64\n",
       "Metascore      float64\n",
       "Director        object\n",
       "Star1           object\n",
       "Star2           object\n",
       "Star3           object\n",
       "Star4           object\n",
       "Genre           object\n",
       "dtype: object"
      ]
     },
     "execution_count": 376,
     "metadata": {},
     "output_type": "execute_result"
    }
   ],
   "source": [
    "df.dtypes"
   ]
  },
  {
   "cell_type": "code",
   "execution_count": 377,
   "id": "ed2e2cc2",
   "metadata": {},
   "outputs": [],
   "source": [
    "df['Votes'] = df['Votes'].apply(lambda x: x.replace(',',''))\n",
    "df = df.astype({'Date':'int16', 'Certificate': 'category', 'Votes': 'int64','IMDB':'float16', \n",
    "                'Metascore':'float16', 'Genre':'category'})"
   ]
  },
  {
   "cell_type": "code",
   "execution_count": 378,
   "id": "24bd2a41",
   "metadata": {},
   "outputs": [
    {
     "data": {
      "text/plain": [
       "Name             object\n",
       "Date              int16\n",
       "Certificate    category\n",
       "Duration          int64\n",
       "Votes             int64\n",
       "IMDB            float16\n",
       "Metascore       float16\n",
       "Director         object\n",
       "Star1            object\n",
       "Star2            object\n",
       "Star3            object\n",
       "Star4            object\n",
       "Genre          category\n",
       "dtype: object"
      ]
     },
     "execution_count": 378,
     "metadata": {},
     "output_type": "execute_result"
    }
   ],
   "source": [
    "df.dtypes"
   ]
  },
  {
   "cell_type": "markdown",
   "id": "f25f7705",
   "metadata": {},
   "source": [
    "### Balancing Classes"
   ]
  },
  {
   "cell_type": "code",
   "execution_count": 379,
   "id": "32ca3514",
   "metadata": {
    "scrolled": true
   },
   "outputs": [
    {
     "data": {
      "text/plain": [
       "Drama        287\n",
       "Action       183\n",
       "Comedy       151\n",
       "Crime        111\n",
       "Biography     87\n",
       "Animation     84\n",
       "Adventure     65\n",
       "Horror        13\n",
       "Mystery        9\n",
       "Western        4\n",
       "Fantasy        2\n",
       "Film-Noir      2\n",
       "Family         1\n",
       "Thriller       1\n",
       "Name: Genre, dtype: int64"
      ]
     },
     "execution_count": 379,
     "metadata": {},
     "output_type": "execute_result"
    }
   ],
   "source": [
    "df['Genre'].value_counts()"
   ]
  },
  {
   "cell_type": "code",
   "execution_count": 380,
   "id": "37fe3d8f",
   "metadata": {},
   "outputs": [],
   "source": [
    "# joining the least repeated genres to a new class of others\n",
    "df = df.replace(dict.fromkeys(['Horror','Mystery','Western','Fantasy','Film-Noir','Family','Thriller'], 'Other'))"
   ]
  },
  {
   "cell_type": "code",
   "execution_count": 381,
   "id": "8ae38c74",
   "metadata": {},
   "outputs": [
    {
     "data": {
      "text/plain": [
       "Drama        287\n",
       "Action       183\n",
       "Comedy       151\n",
       "Crime        111\n",
       "Biography     87\n",
       "Animation     84\n",
       "Adventure     65\n",
       "Other         32\n",
       "Name: Genre, dtype: int64"
      ]
     },
     "execution_count": 381,
     "metadata": {},
     "output_type": "execute_result"
    }
   ],
   "source": [
    "df['Genre'].value_counts()"
   ]
  },
  {
   "cell_type": "code",
   "execution_count": 382,
   "id": "1bc54b29",
   "metadata": {},
   "outputs": [],
   "source": [
    "# save the cleaned dataset for later use\n",
    "df.to_csv('movies.csv', encoding='utf-8')"
   ]
  },
  {
   "cell_type": "code",
   "execution_count": 384,
   "id": "dd6b68af",
   "metadata": {},
   "outputs": [],
   "source": [
    "# joining summary of movies to the cleaned sataset\n",
    "df1 = df1[['Name', 'Summary']]\n",
    "\n",
    "df = pd.merge(df, df1, how='inner', on = 'Name')"
   ]
  },
  {
   "cell_type": "code",
   "execution_count": 386,
   "id": "cb93793d",
   "metadata": {},
   "outputs": [],
   "source": [
    "# saving new dataset(including the summaries)\n",
    "df.to_csv('movies5.csv')"
   ]
  }
 ],
 "metadata": {
  "kernelspec": {
   "display_name": "Python 3 (ipykernel)",
   "language": "python",
   "name": "python3"
  },
  "language_info": {
   "codemirror_mode": {
    "name": "ipython",
    "version": 3
   },
   "file_extension": ".py",
   "mimetype": "text/x-python",
   "name": "python",
   "nbconvert_exporter": "python",
   "pygments_lexer": "ipython3",
   "version": "3.8.7"
  }
 },
 "nbformat": 4,
 "nbformat_minor": 5
}
